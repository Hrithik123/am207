{
 "cells": [
  {
   "cell_type": "markdown",
   "metadata": {},
   "source": [
    "# Lab  7 - Introduction to Pytorch\n",
    "\n",
    "##### Keywords: gradient descent, logistic regression, pytorch, sgd, minibatch sgd\n",
    "##### Data: data/iris_dataset.pickle"
   ]
  },
  {
   "cell_type": "markdown",
   "metadata": {},
   "source": [
    "## Contents\n",
    "{:.no_toc}\n",
    "* \n",
    "{: toc}"
   ]
  },
  {
   "cell_type": "markdown",
   "metadata": {},
   "source": [
    "## Learning Aims\n",
    "\n",
    "- Introduction to PyTorch\n",
    "- Linear regression\n",
    "- Logistic regression\n",
    "- Automatic differentiation\n",
    "- Gradient descent\n",
    "\n",
    "## Lab Trajectory\n",
    "\n",
    "- PyTorch Installation\n",
    "- Why PyTorch?\n",
    "- Working with PyTorch Basics\n",
    "- Linear Regression\n",
    "- DataLoaders\n",
    "- Logistic Regression on MNIST"
   ]
  },
  {
   "cell_type": "markdown",
   "metadata": {},
   "source": [
    "## Installing PyTorch\n",
    "\n",
    "### Installation\n",
    "\n",
    "#### OS X/Linux \n",
    "We shall be using PyTorch in this class.  Please go to the PyTorch website where they have a nicely designed interface that will generate for you the appropriate installation instructions depending on your OS (Linux/OS X/Windows), your package management system (pip/conda) and your CUDA install (8/9/none).  http://pytorch.org.  Your installation instructions will look something like:\n",
    "\n",
    "- conda install pytorch torchvision -c pytorch \n",
    "\n",
    "or\n",
    "\n",
    "- pip3 install http://download.pytorch.org/whl/cu92/torch-0.4.1-cp36-cp36m-linux_x86_64.whl\n",
    "- pip3 install torchvision\n",
    "\n",
    "#### Windows\n",
    "PyTorch doesn't have official Windows support as yet, but there are Windows binaries available due to Github user @peter123.  Please see his PyTorch for Windows repo https://github.com/peterjc123/pytorch-scripts for installation instructions for different versions of Windows and CUDA.  In all likelihood your installation instructions will be:\n",
    "\n",
    "- conda install pytorch-cpu -c pytorch\n",
    "- pip install torchvision\n",
    "\n",
    "\n",
    "### Testing Installation\n",
    "\n",
    "If the code cell below shows an error, then your PyTorch installation is not working and you should contact one of the teaching staff."
   ]
  },
  {
   "cell_type": "code",
   "execution_count": 1,
   "metadata": {
    "collapsed": true
   },
   "outputs": [],
   "source": [
    "import numpy as np"
   ]
  },
  {
   "cell_type": "code",
   "execution_count": 2,
   "metadata": {},
   "outputs": [
    {
     "name": "stdout",
     "output_type": "stream",
     "text": [
      "PyTorch version: \n",
      "Torchvision version: \n",
      "Creating a Tensor!!\n",
      "tensor([[0.1366, 0.3881, 0.0151],\n",
      "        [0.3452, 0.6595, 0.3901],\n",
      "        [0.9528, 0.8258, 0.7575],\n",
      "        [0.4978, 0.1093, 0.4410],\n",
      "        [0.6932, 0.6741, 0.2425]])\n",
      "Testing some PyTorch transformations!!\n",
      "2.5796896889740104\n"
     ]
    }
   ],
   "source": [
    "### Code Cell to Test PyTorch\n",
    "\n",
    "import torch\n",
    "print(\"PyTorch version: \".format(torch.__version__))\n",
    "import torchvision\n",
    "import torchvision.transforms as transforms\n",
    "print(\"Torchvision version: \".format(torchvision.__version__))\n",
    "\n",
    "print(\"Creating a Tensor!!\")\n",
    "x = torch.rand(5, 3)\n",
    "print(x)\n",
    "\n",
    "transforms.RandomRotation(0.7)\n",
    "transforms.RandomRotation([0.9, 0.2])\n",
    "\n",
    "t = transforms.RandomRotation(10)\n",
    "angle = t.get_params(t.degrees)\n",
    "\n",
    "print(\"Testing some PyTorch transformations!!\")\n",
    "print(angle)\n"
   ]
  },
  {
   "cell_type": "markdown",
   "metadata": {},
   "source": [
    "## Why PyTorch?\n",
    "\n",
    "*All the quotes will come from the PyTorch About Page http://pytorch.org/about/ from which I'll plagiarize shamelessly.  After all, who better to tout the virtues of PyTorch than the creators?*\n",
    "\n",
    "\n",
    "### What is PyTorch?\n",
    "\n",
    "According to the PyTorch about page, \"PyTorch is a python package that provides two high-level features:\n",
    "\n",
    "- Tensor computation (like numpy) with strong GPU acceleration\n",
    "- Deep Neural Networks built on a tape-based autograd system\"\n",
    "\n",
    "### Why is it getting so popular?\n",
    "\n",
    "#### It's quite fast\n",
    "\n",
    "\"PyTorch has minimal framework overhead. We integrate acceleration libraries such as Intel MKL and NVIDIA (CuDNN, NCCL) to maximize speed. At the core, it’s CPU and GPU Tensor and Neural Network backends (TH, THC, THNN, THCUNN) are written as independent libraries with a C99 API.\n",
    "They are mature and have been tested for years.\n",
    "\n",
    "Hence, PyTorch is quite fast – whether you run small or large neural networks.\"\n",
    "\n",
    "#### Imperative programming experience\n",
    "\n",
    "\"PyTorch is designed to be intuitive, linear in thought and easy to use. When you execute a line of code, it gets executed. There isn’t an asynchronous view of the world. When you drop into a debugger, or receive error messages and stack traces, understanding them is straight-forward. The stack-trace points to exactly where your code was defined. We hope you never spend hours debugging your code because of bad stack traces or asynchronous and opaque execution engines.\"\n",
    "\n",
    "\"PyTorch is not a Python binding into a monolothic C++ framework. It is built to be deeply integrated into Python. You can use it naturally like you would use numpy / scipy / scikit-learn etc. You can write your new neural network layers in Python itself, using your favorite libraries and use packages such as Cython and Numba. Our goal is to not reinvent the wheel where appropriate.\"\n",
    "\n",
    "#### Takes advantage of GPUs easily\n",
    "\n",
    "\"PyTorch provides Tensors that can live either on the CPU or the GPU, and accelerate compute by a huge amount.\n",
    "\n",
    "We provide a wide variety of tensor routines to accelerate and fit your scientific computation needs such as slicing, indexing, math operations, linear algebra, reductions. And they are fast!\"\n",
    "\n",
    "\n",
    "#### Dynamic Graphs!!!\n",
    "\n",
    "\"Most frameworks such as TensorFlow, Theano, Caffe and CNTK have a static view of the world. One has to build a neural network, and reuse the same structure again and again. Changing the way the network behaves means that one has to start from scratch.\n",
    "\n",
    "With PyTorch, we use a technique called Reverse-mode auto-differentiation, which allows you to change the way your network behaves arbitrarily with zero lag or overhead. Our inspiration comes from several research papers on this topic, as well as current and past work such as autograd, autograd, Chainer, etc.\n",
    "\n",
    "While this technique is not unique to PyTorch, it’s one of the fastest implementations of it to date. You get the best of speed and flexibility for your crazy research.\"\n",
    "\n"
   ]
  },
  {
   "cell_type": "markdown",
   "metadata": {},
   "source": [
    "## Working with PyTorch Constructs\n",
    "\n",
    "Enough of the sales pitch!  Let's start to understand the PyTorch basics.\n",
    "\n",
    "The basic unit of PyTorch is a tensor (basically a multi-dimensional array like a np.ndarray).\n",
    "\n",
    "![](https://cdn-images-1.medium.com/max/2000/1*_D5ZvufDS38WkhK9rK32hQ.jpeg)\n",
    "\n",
    "(image borrowed from https://hackernoon.com/learning-ai-if-you-suck-at-math-p4-tensors-illustrated-with-cats-27f0002c9b32 )\n",
    "\n",
    "In fact the big difference between a PyTorch Tensor and a numpy ndarray is that a tensor has some extra functionality that allows it to operate both on the GPU and the CPU."
   ]
  },
  {
   "cell_type": "markdown",
   "metadata": {},
   "source": [
    "### Working with Tensors\n",
    "\n",
    "We have many different ways to create tensors.  Most of them allow creation of tensors from existing numpy objects."
   ]
  },
  {
   "cell_type": "code",
   "execution_count": 3,
   "metadata": {},
   "outputs": [
    {
     "name": "stdout",
     "output_type": "stream",
     "text": [
      "Vector 1: tensor([1., 2., 3., 4., 5., 6.])\n",
      "Vector 2: tensor([1, 2, 3, 4, 5, 6])\n",
      "Matrix Tensor: tensor([[1., 2., 3.],\n",
      "        [4., 5., 6.]])\n",
      "Tensor 3D tensor([[[1., 2.],\n",
      "         [3., 4.]],\n",
      "\n",
      "        [[5., 6.],\n",
      "         [7., 8.]]])\n",
      "Another Tensor 3D tensor([[[ 1.,  2.,  3.],\n",
      "         [ 4.,  5.,  6.]],\n",
      "\n",
      "        [[ 2.,  4.,  6.],\n",
      "         [ 8., 10., 12.]]])\n"
     ]
    }
   ],
   "source": [
    "\n",
    "## You can create torch.Tensor objects by giving them data directly\n",
    "\n",
    "#  1D vector\n",
    "vector_input = [1, 2, 3, 4, 5, 6]\n",
    "vector1 = torch.Tensor(vector_input)\n",
    "\n",
    "## this is the right way!!\n",
    "vector2 = torch.tensor(vector_input)\n",
    "\n",
    "# Matrix\n",
    "matrix_input = [[1., 2., 3.], [4., 5., 6]]\n",
    "matrix = torch.tensor(matrix_input)\n",
    "\n",
    "\n",
    "# Create a 3D tensor of size 2x2x2.\n",
    "tensor_input = [[[1., 2.], [3., 4.]],\n",
    "          [[5., 6.], [7., 8.]]]\n",
    "tensor3d = torch.Tensor(tensor_input)\n",
    "\n",
    "matrix2 = torch.clone(matrix) + matrix\n",
    "tensor3d_2 = torch.stack((matrix, matrix2))\n",
    "\n",
    "print(\"Vector 1:\", vector1)\n",
    "print(\"Vector 2:\", vector2)\n",
    "print(\"Matrix Tensor:\", matrix)\n",
    "print(\"Tensor 3D\", tensor3d)\n",
    "print(\"Another Tensor 3D\", tensor3d_2)\n"
   ]
  },
  {
   "cell_type": "markdown",
   "metadata": {},
   "source": [
    "They can be created without any initialization or initialized with random data from uniform (rand()) or normal (randn()) distributions"
   ]
  },
  {
   "cell_type": "code",
   "execution_count": 12,
   "metadata": {},
   "outputs": [
    {
     "name": "stdout",
     "output_type": "stream",
     "text": [
      "x_1:  tensor([[             4527550614613782429696.,\n",
      "         63015426320401626266595474374918144.,\n",
      "                     62688323387544865603584.,\n",
      "             4742813649719697244242392907776.,\n",
      "                                           0.],\n",
      "        [                                  0.,\n",
      "                                           0.,\n",
      "                                           0.,\n",
      "                                           0.,\n",
      "                                           0.]])\n",
      "y_1:  tensor([[ 0.0000,  0.0000,  0.0000,  0.0000,  0.0000],\n",
      "        [ 0.0000, -0.0000,  0.0000,  0.0000,  0.0000],\n",
      "        [ 0.0000,  0.0000, -0.0000,  0.0000,  0.0000]])\n",
      "x_2:  tensor([[0.5298, 0.0706, 0.6725],\n",
      "        [0.7422, 0.2930, 0.6707],\n",
      "        [0.8002, 0.2538, 0.1494],\n",
      "        [0.5875, 0.4490, 0.8565],\n",
      "        [0.6619, 0.2528, 0.4010]])\n",
      "y_2:  tensor([[0.8836, 0.7447, 0.0704, 0.3844, 0.6296],\n",
      "        [0.3835, 0.5149, 0.3370, 0.2960, 0.4902],\n",
      "        [0.9640, 0.2140, 0.3346, 0.6740, 0.5057],\n",
      "        [0.7060, 0.5438, 0.3374, 0.2529, 0.0958],\n",
      "        [0.0521, 0.4465, 0.1542, 0.7060, 0.9764]])\n",
      "x_3:  tensor([[ 0.3751, -1.7168,  1.5475],\n",
      "        [ 0.7482,  2.1650,  0.2776],\n",
      "        [ 0.7465, -0.2300, -1.8174],\n",
      "        [-0.5831, -0.0305,  0.8384],\n",
      "        [-0.8314, -2.0767, -0.0245]])\n",
      "y_3:  tensor([[-0.3090, -0.0423, -0.6106,  2.8008,  0.7216],\n",
      "        [ 1.0156,  0.0939,  0.0973, -0.0828, -0.1652],\n",
      "        [-1.2366, -0.8288,  0.3580, -1.4998,  1.2221],\n",
      "        [-0.6366, -0.8706, -0.2836, -1.5715, -0.2559],\n",
      "        [ 0.9199, -2.2543,  0.1252, -0.7506,  0.6954]])\n"
     ]
    }
   ],
   "source": [
    "# Tensors with no initialization\n",
    "x_1 = torch.Tensor(2, 5)\n",
    "y_1 = torch.Tensor(3, 5)\n",
    "print(\"x_1: \", x_1)\n",
    "print(\"y_1: \", y_1)\n",
    "\n",
    "# Tensors initialized from uniform\n",
    "x_2 = torch.rand(5, 3)\n",
    "y_2 = torch.rand(5, 5)\n",
    "\n",
    "print(\"x_2: \", x_2)\n",
    "print(\"y_2: \", y_2)\n",
    "\n",
    "# Tensors initialized from normal\n",
    "x_3 = torch.randn(5, 3)\n",
    "y_3 = torch.randn(5, 5)\n",
    "\n",
    "print(\"x_3: \", x_3)\n",
    "print(\"y_3: \", y_3)"
   ]
  },
  {
   "cell_type": "markdown",
   "metadata": {},
   "source": [
    "So far it seems numpy like as promised.  Is there any difference?  Let's pick one of the tensors above and examine it."
   ]
  },
  {
   "cell_type": "code",
   "execution_count": 5,
   "metadata": {},
   "outputs": [
    {
     "data": {
      "text/plain": [
       "torch.Tensor"
      ]
     },
     "execution_count": 5,
     "metadata": {},
     "output_type": "execute_result"
    }
   ],
   "source": [
    "type(x_1)"
   ]
  },
  {
   "cell_type": "markdown",
   "metadata": {},
   "source": [
    "It is indeed a tensor.  What about length and size?"
   ]
  },
  {
   "cell_type": "code",
   "execution_count": 11,
   "metadata": {},
   "outputs": [
    {
     "name": "stdout",
     "output_type": "stream",
     "text": [
      "Size:  torch.Size([2, 5])\n",
      "Shape:  torch.Size([2, 5])\n",
      "Length:  2\n",
      "tensor([[ 4.4721e+21,  2.8799e+32,  7.1426e+05,  6.2706e+22,  4.7428e+30],\n",
      "        [ 0.0000e+00,  2.1019e-44,  0.0000e+00, -4.2241e-31,  8.1135e-43]])\n",
      "cpu\n"
     ]
    }
   ],
   "source": [
    "# Expect (2,5)\n",
    "print(\"Size: \", x_1.size())\n",
    "print(\"Shape: \", x_1.shape)\n",
    "print(\"Length: \", len(x_1))\n",
    "\n",
    "# just as a reminder\n",
    "print(x_1)\n",
    "\n",
    "print(x_1.device)\n"
   ]
  },
  {
   "cell_type": "markdown",
   "metadata": {},
   "source": [
    "So len works as normal, size() gives a torch version of size, and shape is an alias for size.  Most important"
   ]
  },
  {
   "cell_type": "markdown",
   "metadata": {},
   "source": [
    "The expected operations (arithmetic operations, addressing, etc) are all in place."
   ]
  },
  {
   "cell_type": "code",
   "execution_count": 13,
   "metadata": {},
   "outputs": [
    {
     "name": "stdout",
     "output_type": "stream",
     "text": [
      "tensor([[0.5298, 0.0706, 0.6725],\n",
      "        [0.7422, 0.2930, 0.6707],\n",
      "        [0.8002, 0.2538, 0.1494],\n",
      "        [0.5875, 0.4490, 0.8565],\n",
      "        [0.6619, 0.2528, 0.4010]])\n",
      "tensor([[ 0.3751, -1.7168,  1.5475],\n",
      "        [ 0.7482,  2.1650,  0.2776],\n",
      "        [ 0.7465, -0.2300, -1.8174],\n",
      "        [-0.5831, -0.0305,  0.8384],\n",
      "        [-0.8314, -2.0767, -0.0245]])\n",
      "tensor([[ 0.9049, -1.6462,  2.2200],\n",
      "        [ 1.4903,  2.4581,  0.9483],\n",
      "        [ 1.5467,  0.0238, -1.6680],\n",
      "        [ 0.0044,  0.4186,  1.6949],\n",
      "        [-0.1695, -1.8239,  0.3765]])\n",
      "tensor([ 1.5475,  0.2776, -1.8174,  0.8384, -0.0245])\n"
     ]
    }
   ],
   "source": [
    "# Addition\n",
    "print(x_2)\n",
    "print(x_3)\n",
    "\n",
    "print(x_2+ x_3)\n",
    "\n",
    "# Addressing\n",
    "print(x_3[:, 2])"
   ]
  },
  {
   "cell_type": "markdown",
   "metadata": {},
   "source": [
    "It's easy to move between PyTorch and Numpy worlds with numpy() and torch.from_numpy()"
   ]
  },
  {
   "cell_type": "code",
   "execution_count": 8,
   "metadata": {},
   "outputs": [
    {
     "name": "stdout",
     "output_type": "stream",
     "text": [
      "tensor([[1.9446e+31, 1.5448e+25, 5.0850e+31, 7.5338e+28, 4.1414e-41],\n",
      "        [0.0000e+00, 2.1019e-44, 0.0000e+00, 9.9184e-39, 1.5134e-43]])\n",
      "[[  1.94456818e+31   1.54475790e+25   5.08501812e+31   7.53383162e+28\n",
      "    4.14139748e-41]\n",
      " [  0.00000000e+00   2.10194770e-44   0.00000000e+00   9.91837371e-39\n",
      "    1.51340234e-43]]\n",
      "<class 'torch.Tensor'>\n",
      "<class 'numpy.ndarray'>\n",
      "<class 'numpy.ndarray'>\n",
      "<class 'torch.Tensor'>\n"
     ]
    }
   ],
   "source": [
    "# PyTorch --> Numpy\n",
    "print(x_1)\n",
    "print(x_1.numpy())\n",
    "\n",
    "print(type(x_1))\n",
    "print(type(x_1.numpy()))\n",
    "\n",
    "numpy_x_1 = x_1.numpy()\n",
    "pytorch_x_1 = torch.from_numpy(numpy_x_1)\n",
    "\n",
    "print(type(numpy_x_1))\n",
    "print(type(pytorch_x_1))"
   ]
  },
  {
   "cell_type": "markdown",
   "metadata": {},
   "source": [
    "Finally PyTorch provides some convenience mechanisms for concatenating Tensors via torch.cat() and reshaping them with  .view() "
   ]
  },
  {
   "cell_type": "code",
   "execution_count": 9,
   "metadata": {},
   "outputs": [
    {
     "name": "stdout",
     "output_type": "stream",
     "text": [
      "tensor([[-0.8000, -0.0193, -0.2872, -0.8136,  0.2675],\n",
      "        [ 3.0300, -0.9079,  1.0791, -0.2783,  0.3948],\n",
      "        [-1.1780, -1.2912, -0.8089,  0.2828,  0.5244],\n",
      "        [ 0.4844,  0.8889,  0.7287,  1.0885,  0.1914],\n",
      "        [-2.4062, -0.3276, -0.8359, -0.7316,  0.9658]])\n",
      "tensor([[ 0.6652, -1.7809, -0.1499, -0.0722,  1.1981,  1.3332,  0.3252,  0.6174],\n",
      "        [-2.8906, -1.0986,  0.9452, -0.9864,  0.0314,  0.8948,  0.1243, -0.0987]])\n",
      "tensor([[[ 1.8703, -0.4185, -0.5291,  0.4369],\n",
      "         [-0.4741,  0.9425,  1.3101,  0.4713],\n",
      "         [ 0.6361, -1.6973, -1.1881,  1.0046]],\n",
      "\n",
      "        [[ 0.2585, -1.8535,  0.4889, -0.2384],\n",
      "         [-0.3417, -0.1065, -1.0459, -0.6624],\n",
      "         [ 0.0864,  0.7853, -0.5762,  0.6210]]])\n",
      "tensor([[ 1.8703, -0.4185, -0.5291,  0.4369, -0.4741,  0.9425,  1.3101,  0.4713,\n",
      "          0.6361, -1.6973, -1.1881,  1.0046],\n",
      "        [ 0.2585, -1.8535,  0.4889, -0.2384, -0.3417, -0.1065, -1.0459, -0.6624,\n",
      "          0.0864,  0.7853, -0.5762,  0.6210]])\n",
      "tensor([[ 1.8703, -0.4185, -0.5291,  0.4369, -0.4741,  0.9425,  1.3101,  0.4713,\n",
      "          0.6361, -1.6973, -1.1881,  1.0046],\n",
      "        [ 0.2585, -1.8535,  0.4889, -0.2384, -0.3417, -0.1065, -1.0459, -0.6624,\n",
      "          0.0864,  0.7853, -0.5762,  0.6210]])\n"
     ]
    }
   ],
   "source": [
    "## Concatenating\n",
    "\n",
    "# By default, it concatenates along the first axis (concatenates rows)\n",
    "x_1 = torch.randn(2, 5)\n",
    "y_1 = torch.randn(3, 5)\n",
    "z_1 = torch.cat([x_1, y_1])\n",
    "print(z_1)\n",
    "\n",
    "# Concatenate columns:\n",
    "x_2 = torch.randn(2, 3)\n",
    "y_2 = torch.randn(2, 5)\n",
    "# second arg specifies which axis to concat along\n",
    "z_2 = torch.cat([x_2, y_2], 1)\n",
    "print(z_2)\n",
    "\n",
    "## Reshaping\n",
    "x = torch.randn(2, 3, 4)\n",
    "print(x)\n",
    "print(x.view(2, 12))  # Reshape to 2 rows, 12 columns, in place\n",
    "# Same as above.  If one of the dimensions is -1, its size can be inferred\n",
    "print(x.view(2, -1))"
   ]
  },
  {
   "cell_type": "markdown",
   "metadata": {},
   "source": [
    "Broadcasting: can cast from any shape to another?"
   ]
  },
  {
   "cell_type": "markdown",
   "metadata": {},
   "source": [
    "Ok -- in order to understand variables in PyTorch, let's take a break and learn about Artificial Neural Networks."
   ]
  },
  {
   "cell_type": "markdown",
   "metadata": {},
   "source": [
    "## PyTorch Variables and the Computational Graph\n",
    "\n",
    "Ok -- back to PyTorch.\n",
    "\n",
    "The other fundamental PyTorch construct besides Tensors are Variables.  Variables are very similar to tensors, but they also keep track of the graph (including their gradients for autodifferentiation).  They are defined in the autograd module of torch."
   ]
  },
  {
   "cell_type": "code",
   "execution_count": 14,
   "metadata": {},
   "outputs": [
    {
     "name": "stdout",
     "output_type": "stream",
     "text": [
      "first variables gradient:  None\n",
      "first variables data:  tensor([23.3000])\n"
     ]
    }
   ],
   "source": [
    "from torch.autograd import Variable\n",
    "import torch.nn as nn\n",
    "import torch.nn.functional as F\n",
    "\n",
    "# Let's create a variable by initializing it with a tensor\n",
    "first_tensor = torch.Tensor([23.3])\n",
    "\n",
    "first_variable = Variable(first_tensor, requires_grad=True) # if want keep track of gradient\n",
    "\n",
    "print(\"first variables gradient: \", first_variable.grad)\n",
    "print(\"first variables data: \", first_variable.data)\n",
    "\n"
   ]
  },
  {
   "cell_type": "markdown",
   "metadata": {},
   "source": [
    "Now let's create some new variables. We can do so implicitly just by creating other variables with functional relationships to our variable."
   ]
  },
  {
   "cell_type": "code",
   "execution_count": 16,
   "metadata": {},
   "outputs": [
    {
     "name": "stdout",
     "output_type": "stream",
     "text": [
      "y.data:  tensor([1540888416214288714427369179316224.])\n",
      "y.grad:  None\n",
      "z.data:  tensor([1.])\n",
      "z.grad:  None\n",
      "x.grad: tensor([0.])\n"
     ]
    }
   ],
   "source": [
    "x = first_variable\n",
    "y = (x ** x) * (x - 2) # y is a variable\n",
    "z = torch.tanh(y) # z has a functional relationship to y, it's a variable\n",
    "z.backward()\n",
    "\n",
    "print(\"y.data: \", y.data)\n",
    "print(\"y.grad: \", y.grad)\n",
    "\n",
    "print(\"z.data: \", z.data)\n",
    "print(\"z.grad: \", z.grad)\n",
    "\n",
    "print(\"x.grad:\", x.grad)"
   ]
  },
  {
   "cell_type": "markdown",
   "metadata": {},
   "source": [
    "Variables come with a .backward() that allows them to do autodifferentiation via backwards propagation.  "
   ]
  },
  {
   "cell_type": "markdown",
   "metadata": {},
   "source": [
    "## Constructing a model with PyTorch\n",
    "\n",
    "Constructing a model with PyTorch is based on a design pattern with a fairly repeatable three step process:\n",
    "\n",
    "- Design your model (including relationships between your variables)\n",
    "    - Generally done by defining a subclass of torch.nn.Module\n",
    "- Construct your loss and optimizer\n",
    "- Train your model using your optimizer and forwards and backwards steps in your model"
   ]
  },
  {
   "cell_type": "code",
   "execution_count": 17,
   "metadata": {},
   "outputs": [
    {
     "name": "stderr",
     "output_type": "stream",
     "text": [
      "C:\\Users\\Jackie\\Anaconda3\\lib\\site-packages\\sklearn\\utils\\fixes.py:313: FutureWarning: numpy not_equal will not check object identity in the future. The comparison did not return the same result as suggested by the identity (`is`)) and will change.\n",
      "  _nan_object_mask = _nan_object_array != _nan_object_array\n"
     ]
    }
   ],
   "source": [
    "from sklearn.datasets import make_regression\n",
    "import numpy as np\n",
    "np.random.seed(99)\n",
    "x1_data, y1_data, coef = make_regression(30,10, 10, bias=1, noise=2, coef=True)"
   ]
  },
  {
   "cell_type": "code",
   "execution_count": 18,
   "metadata": {
    "collapsed": true
   },
   "outputs": [],
   "source": [
    "y1_data = y1_data.reshape(-1,1)"
   ]
  },
  {
   "cell_type": "code",
   "execution_count": 19,
   "metadata": {
    "collapsed": true
   },
   "outputs": [],
   "source": [
    "#matplotlib\n",
    "\n",
    "import matplotlib\n",
    "import matplotlib.pyplot as plt"
   ]
  },
  {
   "cell_type": "code",
   "execution_count": 41,
   "metadata": {},
   "outputs": [
    {
     "name": "stdout",
     "output_type": "stream",
     "text": [
      "torch.Size([30, 10])\n",
      "0 723941.6875\n",
      "25 68.09050750732422\n",
      "50 59.1878547668457\n",
      "75 59.18408203125\n",
      "100 59.184349060058594\n",
      "125 59.184326171875\n",
      "150 59.184326171875\n",
      "175 59.184326171875\n",
      "200 59.184326171875\n",
      "225 59.184326171875\n",
      "250 59.184326171875\n",
      "275 59.184326171875\n",
      "300 59.184326171875\n",
      "325 59.184326171875\n",
      "350 59.184326171875\n",
      "375 59.184326171875\n",
      "400 59.184326171875\n",
      "425 59.184326171875\n",
      "450 59.184326171875\n",
      "475 59.184326171875\n"
     ]
    },
    {
     "name": "stderr",
     "output_type": "stream",
     "text": [
      "C:\\Users\\Jackie\\Anaconda3\\lib\\site-packages\\torch\\nn\\functional.py:52: UserWarning: size_average and reduce args will be deprecated, please use reduction='sum' instead.\n",
      "  warnings.warn(warning.format(ret))\n"
     ]
    }
   ],
   "source": [
    "import torch\n",
    "from torch.autograd import Variable\n",
    "\n",
    "x_data = Variable(torch.Tensor(x1_data))\n",
    "y_data = Variable(torch.Tensor(y1_data))\n",
    "\n",
    "print(x_data.shape)\n",
    "\n",
    "class Model(torch.nn.Module):\n",
    "\n",
    "    def __init__(self):\n",
    "        \"\"\"\n",
    "        In the constructor we instantiate two nn.Linear module\n",
    "        \"\"\"\n",
    "        super(Model, self).__init__()\n",
    "        self.linear = torch.nn.Linear(10, 1)  # One in and one out. 10 inputs, 1 output\n",
    "\n",
    "    def forward(self, x):\n",
    "        \"\"\"\n",
    "        In the forward function we accept a Variable of input data and we must return\n",
    "        a Variable of output data. We can use Modules defined in the constructor as\n",
    "        well as arbitrary operators on Variables.\n",
    "        \"\"\"\n",
    "        y_pred = self.linear(x)\n",
    "        return y_pred\n",
    "\n",
    "# our model\n",
    "model = Model()\n",
    "\n",
    "\n",
    "# Construct our loss function and an Optimizer. The call to model.parameters()\n",
    "# in the SGD constructor will contain the learnable parameters of the two\n",
    "# nn.Linear modules which are members of the model.\n",
    "criterion = torch.nn.MSELoss(size_average=False)\n",
    "optimizer = torch.optim.SGD(model.parameters(), lr=0.01) # lr = learning rate\n",
    "\n",
    "# Training loop\n",
    "for epoch in range(500):\n",
    "    \n",
    "    # Forward pass: Compute predicted y by passing x to the model\n",
    "    y_pred = model(x_data)\n",
    "\n",
    "    # Compute and print loss\n",
    "    loss = criterion(y_pred, y_data)\n",
    "    \n",
    "    # to keep track of progress\n",
    "    if (not epoch % 25):\n",
    "        print(epoch, loss.data.item())\n",
    "\n",
    "    # Zero gradients, perform a backward pass, and update the weights.\n",
    "    optimizer.zero_grad()\n",
    "    loss.backward()\n",
    "    optimizer.step()\n",
    "\n",
    "\n",
    "# After training\n",
    "ytrain_pred = model(x_data)\n"
   ]
  },
  {
   "cell_type": "code",
   "execution_count": 21,
   "metadata": {},
   "outputs": [
    {
     "data": {
      "text/plain": [
       "<generator object Module.parameters at 0x000002438EFF96D0>"
      ]
     },
     "execution_count": 21,
     "metadata": {},
     "output_type": "execute_result"
    }
   ],
   "source": [
    "model.parameters()"
   ]
  },
  {
   "cell_type": "markdown",
   "metadata": {},
   "source": [
    "## DataLoaders"
   ]
  },
  {
   "cell_type": "markdown",
   "metadata": {},
   "source": [
    "Epoch is number of iterations it takes to go through dataset. Iteration is amount of time it takes to do most regular data chunk (update of parameters). In gradient descent, epoch == iteration. "
   ]
  },
  {
   "cell_type": "code",
   "execution_count": 22,
   "metadata": {
    "collapsed": true
   },
   "outputs": [],
   "source": [
    "from IPython.lib.display import YouTubeVideo\n",
    "\n",
    "from torchvision import datasets, transforms\n",
    "from torch.utils.data import Dataset\n",
    "from torch.utils.data.sampler import SubsetRandomSampler\n",
    "from torch.utils.data.sampler import SubsetRandomSampler"
   ]
  },
  {
   "cell_type": "markdown",
   "metadata": {},
   "source": [
    "### Defining our Dataset\n",
    "\n",
    "We'll start by defining a dataset not too disimilar to MNIST but a lot simpler.  We replace our (28, 28, 1) ndarrays with (2, 2, 1) versions.  We also implement the ability to handle transforms just so our class fits in with the MNIST-like Dataset/DataLoader scaffolding in torch/torchvision."
   ]
  },
  {
   "cell_type": "code",
   "execution_count": 23,
   "metadata": {
    "collapsed": true
   },
   "outputs": [],
   "source": [
    "class MyCustomPixelDataset(Dataset):\n",
    "    \"\"\"\n",
    "    This dataset is a toy dataset that acts like 2x2 version of MNIST\n",
    "    with the trace as labels.\n",
    "    \"\"\"\n",
    "    def __init__(self, size=1, transform=None):\n",
    "        super(MyCustomPixelDataset, self).__init__()\n",
    "        \n",
    "        # size determines length of dataset\n",
    "        self.size = size\n",
    "        \n",
    "        # generate random 2x2 matrices with values in [0, 255]\n",
    "        self.matrices = [np.random.randint(256, size=(2, 2)) for i in range(self.size)]\n",
    "        \n",
    "        # our dataset will be a list of (ndarray, label) tuples where the label is the trace\n",
    "        # reshape our matrices into (2x2x1) ndarrays so that transforms.ToTensor()\n",
    "        # has the appropriate expected shape\n",
    "        self.matrices = [(np.reshape(np.array([matrix]), (2,2,1)), np.trace(matrix)) for matrix in self.matrices]\n",
    "        \n",
    "        # if we're passed a transform then apply it to the first element of our tuple (the input)\n",
    "        if transform:\n",
    "            self.matrices = [(transform(element[0]), element[1]) for element in self.matrices]\n",
    "        \n",
    "    # length should just be the size although we don't validate size (i.e. should be an int > 0)\n",
    "    def __len__(self):\n",
    "        return self.size\n",
    "    \n",
    "    # implement __getitem__ as the indexed tuple \n",
    "    def __getitem__(self, index):\n",
    "        #assert 0 <= index <= self.b - self.a\n",
    "        \n",
    "        return self.matrices[index]"
   ]
  },
  {
   "cell_type": "markdown",
   "metadata": {},
   "source": [
    "**If we look at an example small instance of our dataset, we see that it correctly handles the transforms.ToTensor() operation and matches the structure of the MNIST dataset although we have scalar labels as the trace of the original random 2x2 matrix**"
   ]
  },
  {
   "cell_type": "code",
   "execution_count": 24,
   "metadata": {
    "collapsed": true
   },
   "outputs": [],
   "source": [
    "mydset = MyCustomPixelDataset(12,transform=transforms.ToTensor())"
   ]
  },
  {
   "cell_type": "code",
   "execution_count": 25,
   "metadata": {},
   "outputs": [
    {
     "data": {
      "text/plain": [
       "[(tensor([[[186,  98],\n",
       "           [ 93, 145]]], dtype=torch.int32), 331), (tensor([[[138, 197],\n",
       "           [ 33, 204]]], dtype=torch.int32), 342), (tensor([[[ 34,  23],\n",
       "           [175,  92]]], dtype=torch.int32), 126), (tensor([[[ 88, 166],\n",
       "           [ 41,  38]]], dtype=torch.int32), 126), (tensor([[[ 92, 250],\n",
       "           [ 99, 149]]], dtype=torch.int32), 241), (tensor([[[ 93, 217],\n",
       "           [110, 101]]], dtype=torch.int32), 194), (tensor([[[ 59,  82],\n",
       "           [221,  47]]], dtype=torch.int32), 106), (tensor([[[ 97, 139],\n",
       "           [ 28, 155]]], dtype=torch.int32), 252), (tensor([[[163, 228],\n",
       "           [ 26,  11]]], dtype=torch.int32), 174), (tensor([[[196,  34],\n",
       "           [162, 116]]], dtype=torch.int32), 312), (tensor([[[ 61,  41],\n",
       "           [209, 140]]], dtype=torch.int32), 201), (tensor([[[226,  70],\n",
       "           [182,  92]]], dtype=torch.int32), 318)]"
      ]
     },
     "execution_count": 25,
     "metadata": {},
     "output_type": "execute_result"
    }
   ],
   "source": [
    "mydset[:]"
   ]
  },
  {
   "cell_type": "markdown",
   "metadata": {},
   "source": [
    "### Defining our DataLoader\n",
    "\n",
    "We'll now define a DataLoader with a batch_size of 4 and shuffle set to be True.  If things go as expected when we loop through our epochs (we only define two here just to show the functionality) and iterate through the DataLoader, we should see our batches of 4 and they shouldn't come out in a defined order.  Our data should come out in different orders (and different batches) in each epoch."
   ]
  },
  {
   "cell_type": "code",
   "execution_count": 26,
   "metadata": {
    "collapsed": true
   },
   "outputs": [],
   "source": [
    "mydset_loader = torch.utils.data.DataLoader(dataset=mydset, \n",
    "                                           batch_size=4, \n",
    "                                           shuffle=True)"
   ]
  },
  {
   "cell_type": "code",
   "execution_count": 27,
   "metadata": {},
   "outputs": [
    {
     "name": "stdout",
     "output_type": "stream",
     "text": [
      "0 0 tensor([194, 106, 241, 342], dtype=torch.int32)\n",
      "0 1 tensor([201, 318, 126, 174], dtype=torch.int32)\n",
      "0 2 tensor([126, 331, 252, 312], dtype=torch.int32)\n",
      "1 0 tensor([126, 126, 174, 252], dtype=torch.int32)\n",
      "1 1 tensor([331, 201, 318, 312], dtype=torch.int32)\n",
      "1 2 tensor([241, 106, 342, 194], dtype=torch.int32)\n"
     ]
    }
   ],
   "source": [
    "for epoch in range(2):   \n",
    "    for batch_index, (inputs, labels) in enumerate(mydset_loader):\n",
    "        print(epoch, batch_index, labels)"
   ]
  },
  {
   "cell_type": "markdown",
   "metadata": {},
   "source": [
    "Sure enough our label clusters come in different orders and organized in different batchs in each epoch.\n",
    "\n",
    "### Splitting out a Validation Set from our Dataset\n",
    "\n",
    "Our problem is that we're given a dataset but not necessary a validation set.  How do we split out a validation set while still being able to use the convenient dataset/dataloader scaffolding that PyTorch provides?\n",
    "\n",
    "We'll take the following approach:\n",
    "\n",
    "* Split our dataset into training set and validation set\n",
    "* Use the indices of the split to create PyTorch Samplers\n",
    "* Feed that sampler into our DataLoaders to tell them which dataset elements to include in their iteration\n",
    "* Iterate over the appropriate DataLoaders in the training/validation loops\n",
    "* Gnome underpants\n"
   ]
  },
  {
   "cell_type": "code",
   "execution_count": 28,
   "metadata": {
    "collapsed": true
   },
   "outputs": [],
   "source": [
    "## define our indices -- our dataset has 12 elements and we want a 8:4 split\n",
    "num_train = len(mydset)\n",
    "indices = list(range(num_train))\n",
    "split = 4\n",
    "\n",
    "# Random, non-contiguous split\n",
    "validation_idx = np.random.choice(indices, size=split, replace=False)\n",
    "train_idx = list(set(indices) - set(validation_idx))\n",
    "\n",
    "# Contiguous split\n",
    "# train_idx, validation_idx = indices[split:], indices[:split]\n",
    "\n",
    "## define our samplers -- we use a SubsetRandomSampler because it will return\n",
    "## a random subset of the split defined by the given indices without replaf\n",
    "train_sampler = SubsetRandomSampler(train_idx)\n",
    "validation_sampler = SubsetRandomSampler(validation_idx)\n",
    "\n",
    "train_loader = torch.utils.data.DataLoader(mydset, \n",
    "                batch_size=4, sampler=train_sampler)\n",
    "\n",
    "validation_loader = torch.utils.data.DataLoader(mydset, \n",
    "                batch_size=2, sampler=validation_sampler)"
   ]
  },
  {
   "cell_type": "markdown",
   "metadata": {},
   "source": [
    "### Testing our Validation Split\n",
    "\n",
    "OK -- we should have accomplished the first 3 items on our agenda:\n",
    "\n",
    "* Split our dataset into training set and validation set\n",
    "* Use the indices of the split to create PyTorch Samplers\n",
    "* Feed that sampler into our DataLoaders to tell them which dataset elements to include in their iteration\n",
    "\n",
    "Now we kind of glossed over an unexpected problem.  If you define any kind of sampler, you lose the ability to designate shuffle as True in your DataLoader.  For this reason we defined our sampler as a SubsetRandomSampler which should ensure shuffling by its very nature.  If all goes as expected, we should be able to iterate through our train_loader and validation_loader and get segmented results -- elements in the validation loader are not in the train_loader and vice versa.  Furthermore, we should see random shuffling batches from our train_loader just as if we designated shuffle to True.\n",
    "\n",
    "let's test our train_loader:"
   ]
  },
  {
   "cell_type": "code",
   "execution_count": 51,
   "metadata": {},
   "outputs": [
    {
     "name": "stdout",
     "output_type": "stream",
     "text": [
      "0 0 tensor([312, 106, 241, 252], dtype=torch.int32)\n",
      "0 1 tensor([174, 342, 331, 126], dtype=torch.int32)\n",
      "1 0 tensor([106, 174, 312, 241], dtype=torch.int32)\n",
      "1 1 tensor([126, 252, 342, 331], dtype=torch.int32)\n"
     ]
    }
   ],
   "source": [
    "for epoch in range(2):   \n",
    "    for batch_index, (inputs, labels) in enumerate(train_loader):\n",
    "        print(epoch, batch_index, labels)"
   ]
  },
  {
   "cell_type": "markdown",
   "metadata": {},
   "source": [
    "and now our validation_loader:"
   ]
  },
  {
   "cell_type": "code",
   "execution_count": 48,
   "metadata": {},
   "outputs": [
    {
     "name": "stdout",
     "output_type": "stream",
     "text": [
      "0 0 tensor([201, 318], dtype=torch.int32)\n",
      "0 1 tensor([126, 194], dtype=torch.int32)\n",
      "1 0 tensor([194, 126], dtype=torch.int32)\n",
      "1 1 tensor([201, 318], dtype=torch.int32)\n"
     ]
    }
   ],
   "source": [
    "for epoch in range(2):   \n",
    "    for batch_index, (inputs, labels) in enumerate(validation_loader):\n",
    "        print(epoch, batch_index, labels)"
   ]
  },
  {
   "cell_type": "markdown",
   "metadata": {},
   "source": [
    "### Testing Conclusions\n",
    "\n",
    "RESULT!! No overlap! Now because we use SubsetRandomSampler for both our train_sampler and our validation_sampler as a side effect we get random shuffling on our validation split.  It's not ideal, but not the end of the world.  Unfortunately there isn't a SubsetSequentialSampler class.  We could write our own sampler class (they're quite easy to implement) but since the downside of random shuffling in our validation split aren't onerous, we'll just use the SubsetRandomSampler as a base class for both samplers.  We have achieved our final two objectives:\n",
    "\n",
    "* Iterate over the appropriate DataLoaders in the training/validation loops\n",
    "* Gnome underpants"
   ]
  },
  {
   "cell_type": "markdown",
   "metadata": {},
   "source": [
    "### Train/Validation Splits on the MNIST Dataset\n",
    "\n",
    "With the above infrastructure in place, we can construct some validation boilerplate code for HW4 Questions 2 and 3 to allow us to create validation sets for MNIST.  Fortunately we don't have to do anything special for the test set, the MNIST code in torchvision already at the right size.  As is, out of the 70K imates in MNIST, the torchvision MNIST dataset  gives us a 60K/10K train/test split.  For the HW we want a 60K/10K/10K train/validation/test split.  You should be able to use the below boilerplate."
   ]
  },
  {
   "cell_type": "code",
   "execution_count": 48,
   "metadata": {
    "collapsed": true
   },
   "outputs": [],
   "source": [
    "## Define our MNIST Datasets (Images and Labels) for training and testing\n",
    "train_dataset = datasets.MNIST(root='./data', \n",
    "                            train=True, \n",
    "                            transform=transforms.ToTensor(),\n",
    "                            download=True)\n",
    "\n",
    "test_dataset = datasets.MNIST(root='./data', \n",
    "                           train=False, \n",
    "                           transform=transforms.ToTensor())\n",
    "\n",
    "\n",
    "## We need to further split our training dataset into training and validation sets.\n",
    "\n",
    "# Define the indices\n",
    "indices = list(range(len(train_dataset))) # start with all the indices in training set\n",
    "split = 10000 # define the split size\n",
    "\n",
    "# Define your batch_size\n",
    "batch_size = 64\n",
    "\n",
    "# Random, non-contiguous split\n",
    "validation_idx = np.random.choice(indices, size=split, replace=False)\n",
    "train_idx = list(set(indices) - set(validation_idx))\n",
    "\n",
    "# Contiguous split\n",
    "# train_idx, validation_idx = indices[split:], indices[:split]\n",
    "\n",
    "\n",
    "# define our samplers -- we use a SubsetRandomSampler because it will return\n",
    "# a random subset of the split defined by the given indices without replacement\n",
    "train_sampler = SubsetRandomSampler(train_idx)\n",
    "validation_sampler = SubsetRandomSampler(validation_idx)\n",
    "\n",
    "# Create the train_loader -- use your real batch_size which you\n",
    "# I hope have defined somewhere above\n",
    "train_loader = torch.utils.data.DataLoader(dataset=train_dataset, \n",
    "                batch_size=batch_size, sampler=train_sampler)\n",
    "\n",
    "# You can use your above batch_size or just set it to 1 here.  Your validation\n",
    "# operations shouldn't be computationally intensive or require batching.\n",
    "validation_loader = torch.utils.data.DataLoader(dataset=train_dataset, \n",
    "                batch_size=1, sampler=validation_sampler)\n",
    "\n",
    "# You can use your above batch_size or just set it to 1 here.  Your test set\n",
    "# operations shouldn't be computationally intensive or require batching.  We \n",
    "# also turn off shuffling, although that shouldn't affect your test set operations\n",
    "# either\n",
    "test_loader = torch.utils.data.DataLoader(dataset=test_dataset, \n",
    "                                          batch_size=1,\n",
    "                                          shuffle=False)"
   ]
  },
  {
   "cell_type": "markdown",
   "metadata": {},
   "source": [
    "## SGD for Multinomial Logistic Regresion on MNIST"
   ]
  },
  {
   "cell_type": "markdown",
   "metadata": {},
   "source": [
    "The [*MNIST* dataset](https://en.wikipedia.org/wiki/MNIST_database) is one of the classic datasets in Machine Learning and is often one of the first datasets against which new classification algorithms test themselves.  It consists of 70,000 images of handwritten digits, each of which is 28x28 pixels. You will be using PyTorch to build a handwritten digit classifier that you will train and test with MNIST.\n",
    "\n",
    "Your classifier will use a multinomial logistic regression model, will take as input an array of pixel values in an image and output the images most likely digit label (i.e. 0-9). You should think about the pixel values as features of the input vector.  Before you fully realize your model, we recommend that you plot some of the images beforehand to develop some intuition on the dataset.\n",
    "\n",
    "\n",
    "1. Plot 10 sample images from the MNIST dataset\n",
    "1. Construct a softmax formulation in PyTorch of multinomial logistic regression with  Cross Entropy Loss.  \n",
    "1. Train your model using SGD to minimize the cost function. *Use a batch size of 64, a learning rate $\\eta = 0.01$, and 10 epochs*\n",
    "1. What are the training and test set accuracies?  \n",
    "1. Plot some (around 5) examples of misclassifications\n",
    "\n",
    "** The MNIST dataset (including a train/test split) is part of PyTorch in the torchvision module.  See this week's lab notebook for details of how to load it if you need help accessing it **\n"
   ]
  },
  {
   "cell_type": "markdown",
   "metadata": {},
   "source": [
    "(1, 1, 28, 28): batch, color, width, height"
   ]
  },
  {
   "cell_type": "markdown",
   "metadata": {},
   "source": [
    "** Solutions **\n",
    "\n",
    "The key parts to this solution will be creating a Multinomial Logistic Regression implementation to classify MNIST in PyTorch (784 inputs, 10 outputs, no hidden layers, CrossEntropy Loss).  We'll start our endeavors with our torch related imports.  \n"
   ]
  },
  {
   "cell_type": "code",
   "execution_count": 32,
   "metadata": {
    "collapsed": true
   },
   "outputs": [],
   "source": [
    "## Standard boilerplate to import torch and torch related modules\n",
    "import torch\n",
    "import torchvision.datasets as datasets\n",
    "import torchvision.transforms as transforms\n",
    "\n",
    "from torch.autograd import Variable\n",
    "import torch.nn as nn\n",
    "import torch.nn.functional as F"
   ]
  },
  {
   "cell_type": "markdown",
   "metadata": {},
   "source": [
    "We'll base our class on the **Regression** parent class that we created in for the last Homework.  We'll do so in order to model our Logistic Regression class on the SKLearn API."
   ]
  },
  {
   "cell_type": "code",
   "execution_count": 33,
   "metadata": {
    "collapsed": true
   },
   "outputs": [],
   "source": [
    "\n",
    "# Regression Parent Class\n",
    "class Regression(object):\n",
    "    \n",
    "    def __init__(self):\n",
    "        self.params = dict()\n",
    "    \n",
    "    def get_params(self, k):\n",
    "        return self.params.get(k, None)\n",
    "    \n",
    "    def set_params(self, **kwargs):\n",
    "        for k,v in kwargs.items():\n",
    "            self.params[k] = v\n",
    "        \n",
    "                    \n",
    "    def fit(self, X, y):\n",
    "        raise NotImplementedError()\n",
    "        \n",
    "    def predict(self, X):\n",
    "        raise NotImplementedError()\n",
    "        \n",
    "    def score(self, X, y):\n",
    "        raise NotImplementedError()\n",
    "        "
   ]
  },
  {
   "cell_type": "markdown",
   "metadata": {},
   "source": [
    "*We've created a PyTorch Logistic Regression model based on nn.Module.  We've defined the appropriate layers (one input and the implicit output layer) in the constructor.  In forward, we run the inputs through the layers we defined.  We don't define any activation on the output layer because we'll be using CrossEntropyLoss which does the softmax activation automatically for us.*"
   ]
  },
  {
   "cell_type": "code",
   "execution_count": 34,
   "metadata": {
    "collapsed": true
   },
   "outputs": [],
   "source": [
    "## Our PyTorch implementation of Logistic Regression\n",
    "class LRPyTorch(nn.Module):\n",
    "\n",
    "    ## the constructor is where we'll define all our layers (input, hidden, and output)\n",
    "    def __init__(self):\n",
    "\n",
    "        ## this line creates an instance of our parent (or base) class which in this case\n",
    "        ## is nn.Module.\n",
    "        super().__init__()\n",
    "\n",
    "        ## in the lines below we'll create instance variables and assign them torch.nn Models\n",
    "        ## in order to create our layers.  You should ordinarily have one variable definition for each layer\n",
    "        ## in your neural network except for the output layer.  The output layer is defined by the number of\n",
    "        ## outputs in your last layer. Since we're dealing with simple Artificial Neural Networks, we should\n",
    "        ## predominantly be using nn.Linear.  \n",
    "        self.l1 = nn.Linear(784, 10)\n",
    "\n",
    " \n",
    "    # forwards takes as a parameter x -- the batch of inputs that we want to feed into our neural network model\n",
    "    # and returns the output of the model ... i.e. the results of the output layer of the model after forward\n",
    "    # propagation through our model. practically this means you should call each layer you defined in the\n",
    "    # constructor in sequence plus any activation functions on each layer.\n",
    "    def forward(self, x):\n",
    "     \n",
    "        # call all our layers on our input (in this case we only need one)\n",
    "        x = self.l1(x)\n",
    "\n",
    "        # Since we're using Cross Entropy Loss\n",
    "        # we can return our output directly\n",
    "        return x\n"
   ]
  },
  {
   "cell_type": "markdown",
   "metadata": {},
   "source": [
    "*Create the MNIST Logistic Regression model.  We define methods to fit, predict and score our model as well as methods to load data, visualize sample training images, visualize our cross entropy loss, and save and visualize sample misclassified images.*"
   ]
  },
  {
   "cell_type": "code",
   "execution_count": 38,
   "metadata": {
    "collapsed": true
   },
   "outputs": [],
   "source": [
    "\n",
    "class MNIST_Logistic_Regression(Regression):\n",
    "    \n",
    "    def __init__(self, learning_rate=0.01, batch_size=64, epochs=10):\n",
    "        \n",
    "        super().__init__()\n",
    "        \n",
    "        \n",
    "        ## Load MNIST Data\n",
    "        train_dataset, test_dataset, train_loader, test_loader = self.load_data()\n",
    "        \n",
    "        ## Add Datasets and Data Loaders to our params\n",
    "        self.set_params(train_dataset=train_dataset, \n",
    "                        train_loader=train_loader,\n",
    "                        test_dataset=test_dataset,\n",
    "                        test_loader=test_loader)\n",
    "        \n",
    "        \n",
    "        ## Here we instantiate the PyTorch model that we so nicely defined previously\n",
    "        model = LRPyTorch()\n",
    "\n",
    "        ## Here we define our loss function.  We're using CrossEntropyLoss but other options include\n",
    "        ## NLLLoss (negative log likelihood loss for when the log_softmax activation is explicitly defined\n",
    "        ## on the output layer), MSELoss for OLS Regression, KLLDivLoss for KL Divergence, BCELoss\n",
    "        ## for binary cross entropy and many others\n",
    "        criterion = nn.CrossEntropyLoss()\n",
    "\n",
    "        ## Here we define our optimizer.  In class we've been using SGD although in practice one will often\n",
    "        ## use other optimizers like Adam or RMSProp.  The primary parameter the optimizer takes is the\n",
    "        ## set of parameters in your model.  Fortunately those are easily accessible via model.paramters()\n",
    "        ## where model is the instance of the model you defined.  Other useful parameters include lr for the\n",
    "        ## learning rate and weight_decay for the rate of l2 regularization.\n",
    "        optimizer = torch.optim.SGD(model.parameters(), lr=learning_rate)\n",
    "        \n",
    "        \n",
    "        ## Set the rest of our parameters -- batch_size, learning_rate, epochs, optimizer,\n",
    "        ## model and criterion\n",
    "        \n",
    "        ## Add Datasets and Data Loaders to our params\n",
    "        self.set_params(optimizer=optimizer, \n",
    "                        learning_rate=learning_rate,\n",
    "                        batch_size=batch_size,\n",
    "                        model=model,\n",
    "                        criterion=criterion,\n",
    "                        epochs=epochs)   \n",
    "        \n",
    "    def load_data(self):\n",
    "        \"\"\"load the MNIST training and test sets from MNIST\"\"\"\n",
    "        \n",
    "        \n",
    "        ## We start by defining our training dataset\n",
    "        ## --root-- a string pointing to the relative path of the directory where we'll store our MNIST data\n",
    "        ## --train-- tells us whether to download the training set (True) or the test set (False)\n",
    "        ## MNIST in torchvision only has train (60K) and test (10K) datasets.  Other datasets also have a validation set\n",
    "        ## --transforms-- is a torchvision.transforms object that specifies what transforms to apply to each element\n",
    "        ## in the dataset.  The required transform is transforms.ToTensor() that turns each element into a PyTorch floating\n",
    "        ## point tensor object.  You could also add others like transforms.Normalize if you wished\n",
    "        ## --download-- specifies whether to download the data from the online urls.   If set to false, then you should\n",
    "        ## provide the data locally yourself\n",
    "        train_dataset = datasets.MNIST(root='./hw3_data',\n",
    "                                    train=True,\n",
    "                                    transform=transforms.Compose([transforms.ToTensor(),\n",
    "                                      transforms.Normalize((0.1307,), (0.3081,)),\n",
    "                                     ]),\n",
    "                                    download=True)\n",
    "\n",
    "        ## similar to the above, the main difference is that we should set train=False since we want the\n",
    "        ## test set data\n",
    "        test_dataset = datasets.MNIST(root='./hw3_data',\n",
    "                                   train=False,\n",
    "                                   transform=transforms.Compose([transforms.ToTensor(),\n",
    "                                      transforms.Normalize((0.1307,), (0.3081,)),\n",
    "                                     ]),\n",
    "                                   download=True)\n",
    "\n",
    "        ## A DataLoader or (Dataset Loader) turns the specified data set into a sequence of data elements\n",
    "        ## that you can access in your loops for training or evaluating accuracy, etc.\n",
    "\n",
    "\n",
    "\n",
    "        ## your train loader, takes train_dataset and turns into a sequence/iterator.  Major parameters include\n",
    "        ## --dataset-- the dataset to act upon\n",
    "        ## --batch_size-- how many elements to draw from the dataset at a time similar to mini batch SGD\n",
    "        ## --shuffle--  whether to shuffle the elements after drawing a batch.  We want this in our training data loader\n",
    "        train_loader = torch.utils.data.DataLoader(dataset=train_dataset,\n",
    "                                                   batch_size=64,\n",
    "                                                   shuffle=True)\n",
    "\n",
    "\n",
    "\n",
    "        ## in our test set loader, we don't want to shuffle since we want to\n",
    "        ## evaluate every element in sequence.  We set the batch_size to the size of the \n",
    "        ## whole dataset\n",
    "        test_loader = torch.utils.data.DataLoader(dataset=test_dataset,\n",
    "                                                  batch_size=len(test_dataset),\n",
    "                                                  shuffle=False)\n",
    "\n",
    "        return (train_dataset, test_dataset, train_loader, test_loader)\n",
    "    \n",
    "    def sample_training_images(self):\n",
    "        \"\"\"Create a set of sample images from the MNIST training images\"\"\"\n",
    "        \n",
    "        training_set = self.get_params('train_dataset')\n",
    "        sample_indices = np.random.choice(training_set.train_data.size(0), 10)\n",
    "        \n",
    "        sample_images = training_set.train_data[sample_indices,:,:].numpy()\n",
    "        sample_labels = [training_set.train_labels[x] for x in sample_indices]\n",
    "        \n",
    "        self.set_params(sample_training_images=sample_images)\n",
    "        self.set_params(sample_training_labels=sample_labels)\n",
    "        \n",
    "    def save_misclassified(self, predictions, images, labels):\n",
    "        \"\"\"Create and save a set of sample images misclassified images by the model\"\"\"\n",
    "             \n",
    "        mislabeled_indices = [index for index,value in enumerate(predictions == labels) if value==False]\n",
    "        sample_indices = np.random.choice(mislabeled_indices, 10)\n",
    "        \n",
    "        sample_images = images[sample_indices,:,:].numpy()\n",
    "        sample_labels = [predictions[x] for x in sample_indices]\n",
    "        true_labels = [labels[x] for x in sample_indices]\n",
    "\n",
    "        self.set_params(misclassified_images=sample_images)\n",
    "        self.set_params(misclassified_labels=sample_labels)\n",
    "        self.set_params(misclassified_true_labels=true_labels)\n",
    "        \n",
    "        \n",
    "    def viz_training_images(self):\n",
    "        \"\"\"Visualize/Plot sample training images\"\"\"\n",
    "        \n",
    "        if not self.get_params('training_labels'):\n",
    "            self.sample_training_images()\n",
    "        \n",
    "        # get the images and labels\n",
    "        sample_images = self.get_params(\"sample_training_images\")\n",
    "        sample_labels = self.get_params(\"sample_training_labels\")\n",
    "        \n",
    "        fig, (ax1, ax2) = plt.subplots(2, 5, figsize=(20, 10))\n",
    "        plt.suptitle(\"Some Sample Images from MNIST\", fontsize=20, weight='heavy')\n",
    "\n",
    "        for i in range(5):\n",
    "            ax1[i].imshow(sample_images[i])\n",
    "            ax1[i].set_title(\"MNIST Label: {}\".format(sample_labels[i]))\n",
    "            ax2[i].imshow(sample_images[i+5])\n",
    "            ax2[i].set_title(\"MNIST Label: {}\".format(sample_labels[i+5]), weight='bold')\n",
    "            \n",
    "        plt.show()\n",
    "\n",
    "    def viz_misclassified_images(self):\n",
    "        \"\"\"Visualize/Plot misclassified training images\"\"\"\n",
    "\n",
    "        # get the images and labels\n",
    "        sample_images = self.get_params(\"misclassified_images\")\n",
    "        sample_labels = self.get_params(\"misclassified_labels\")\n",
    "        true_labels = self.get_params(\"misclassified_true_labels\")\n",
    "\n",
    "        if not sample_labels:\n",
    "            raise(Exception(\"Please run predict() or score() with save_misclassified=True\"))\n",
    "\n",
    "        fig, (ax1, ax2) = plt.subplots(2, 5, figsize=(20, 10))\n",
    "        plt.suptitle(\"Some Sample Misclassified Images\", fontsize=20, weight='heavy')\n",
    "\n",
    "        for i in range(5):\n",
    "            ax1[i].imshow(sample_images[i])\n",
    "            ax1[i].set_title(\"MNIST Label: {} Classified: {}\".format(true_labels[i], sample_labels[i]), weight='bold')\n",
    "            ax2[i].imshow(sample_images[i+5])\n",
    "            ax2[i].set_title(\"MNIST Label: {} Classified: {}\".format(true_labels[i+5], sample_labels[i+5]), weight='bold')\n",
    "\n",
    "        plt.show()\n",
    "        \n",
    "    \n",
    "    ## Stolen from excellent visualization from submission from Madeleine Duran/Sarah Walker\n",
    "    def viz_training_loss(self, epochs=10):\n",
    "        \"\"\"Visualize/Plot our training loss\"\"\"\n",
    "        \n",
    "        losses = self.get_params(\"training_losses\")\n",
    "        \n",
    "        if type(losses) == type(None):\n",
    "            raise(\"Please run fit() to train data\")\n",
    "        \n",
    "        fig, axes = plt.subplots(nrows=1, ncols=epochs, figsize=(20,5), sharex=True, sharey=True)\n",
    "        \n",
    "        for i in range(10):\n",
    "            axes[i].plot(range(len(losses[i])), losses[i])\n",
    "            axes[i].set_title(\"epoch {}\".format(i))\n",
    "            if i % 2 == 1:\n",
    "                axes[i].axvspan(-10, 950, facecolor='gray', alpha=0.2)\n",
    "        plt.subplots_adjust(wspace=0)\n",
    "        plt.show()\n",
    "        \n",
    "    \n",
    "    def predict(self, dataset='Test', save_misclassified=True):\n",
    "        \"\"\"Classify images based on the fitted logistic regression model\"\"\"\n",
    "\n",
    "        # Get Loader   \n",
    "        loader = self.get_params('test_loader') if dataset == 'Test' else self.get_params('train_loader')\n",
    "        dataset_labels = loader.dataset.test_labels if dataset == 'Test' else loader.dataset.train_labels\n",
    "        dataset_images = loader.dataset.test_data if dataset == 'Test' else loader.dataset.train_data\n",
    "        dataset_labels = dataset_labels.numpy()\n",
    "        \n",
    "        predictions = []\n",
    "        correct = 0\n",
    "        model = self.get_params('model')\n",
    "\n",
    "        for inputs, labels in loader:\n",
    "\n",
    "            ## get the inputs from the dataloader and turn into a variable for \n",
    "            ## feeding to the model\n",
    "            inputs = Variable(inputs)\n",
    "\n",
    "            ## Reshape so that batches work properly\n",
    "            inputs = inputs.view(-1, 28*28)\n",
    "\n",
    "            # run our model on the inputs\n",
    "            outputs = model(inputs)\n",
    "\n",
    "            # get the class of the max log-probability\n",
    "            pred = outputs.data.max(1)[1]\n",
    "\n",
    "            correct += (pred == labels).sum()\n",
    "\n",
    "            # append current batch of predictions to our list\n",
    "            predictions += list(pred)\n",
    "\n",
    "\n",
    "        if save_misclassified:\n",
    "            self.save_misclassified(predictions, dataset_images, dataset_labels)\n",
    "            \n",
    "        self.set_params(predictions=predictions, \n",
    "                        correct_predictions=correct,\n",
    "                        prediction_dataset_length=len(loader.dataset),\n",
    "                        prediction_dataset_labels=dataset_labels\n",
    "                       )\n",
    "        return np.array(predictions)\n",
    "    \n",
    "    \n",
    "    def score(self, dataset='Test', save_misclassified=True ):\n",
    "        \"\"\"Calculate accuracy score based upon model classification\"\"\"\n",
    "        \n",
    "        self.predict(dataset=dataset, save_misclassified=save_misclassified)\n",
    "        correct = self.get_params('correct_predictions')\n",
    "        total = self.get_params('prediction_dataset_length')\n",
    "        \n",
    "        print('Dataset: {} \\nAccuracy: {}/{} ({:.1f}%)\\n'.format(\n",
    "            dataset, correct, total, 100.0 * correct / total))\n",
    "        \n",
    "        return(correct/total)\n",
    "        \n",
    "        \n",
    "    def fit(self):\n",
    "        \"\"\"Fit our logistic regression model on MNIST training set\"\"\"\n",
    "        \n",
    "        ## We defined a number of variables in our constructor -- let's reclaim them here\n",
    "        optimizer=self.get_params(\"optimizer\")\n",
    "        model=self.get_params(\"model\")\n",
    "        epochs=self.get_params(\"epochs\")\n",
    "        criterion=self.get_params(\"criterion\")\n",
    "        train_loader=self.get_params(\"train_loader\")\n",
    "        \n",
    "        ## Get the Total size of training set\n",
    "        self.get_params('train_dataset')\n",
    "        training_size = self.get_params('train_dataset').train_data.size(0)\n",
    "        \n",
    "        iterations = int(np.ceil(training_size/self.get_params(\"batch_size\")))\n",
    "        \n",
    "        ## We need something to keep track of our losses\n",
    "        losses = np.zeros((epochs, iterations)) \n",
    "  \n",
    "        \n",
    "        ## Our training loop.  We can loop over a fixed number of epochs or\n",
    "        ## using a sensitivity parameter (i.e. until net change in loss is\n",
    "        ## below a certain tolerance).  Here we iterate over a fixed number of\n",
    "        ## epochs\n",
    "        for epoch in range(epochs):\n",
    "\n",
    "            ## We defined our train_loader DataLoader earlier.  The train_loader is a\n",
    "            ## sequence of tuples with the first element of each tuple being\n",
    "            ## the batched training inputs (the batch_size being defined in your DataLoader)\n",
    "            ## and the second second element of each tuple being the corresponding labels\n",
    "            ## more or less all the pytorch classes are built to handle batching transparently\n",
    "\n",
    "            ## loop through the DataLoader.  Each loop is one iteration.  All the loops\n",
    "            ## form one epoch\n",
    "            for batch_index, (inputs, labels) in enumerate(train_loader):\n",
    "\n",
    "                # Convert the inputs/labels passed from the DataLoader into\n",
    "                # autograd Variables.  The dataloader provides them as PyTorch Tensors\n",
    "                # per the transforms.ToTensor() operation.\n",
    "                inputs, labels = Variable(inputs), Variable(labels)\n",
    "\n",
    "                ## as mentioned above we receive the inputs as tensors of size (batch_size,1, 28, 28)\n",
    "                ## which is effectively (batch_size, 28, 28) basically as a 3 dimensional tensor\n",
    "                ## representing a stack of (28x28) matrices with each matrix element a floating point number\n",
    "                ## representing the value of that pixel in the image.  Unfortunately our Neural Network model\n",
    "                ## can't handle that representation and needs a pixel matrices to be flattened into a row vector\n",
    "                ## of inputs.  The model takes a 2d tensor representing batch of such row vectors each row vector\n",
    "                ## representing one set of inputs corresponding to one image.  In order to accomplish this\n",
    "                ## flattening we use the .view method defined on autograd Variables.\n",
    "                inputs = inputs.view(-1, 28*28)\n",
    "\n",
    "                # we need to zero out our gradients after each pass\n",
    "                optimizer.zero_grad()\n",
    "\n",
    "\n",
    "                ## This is the optimize - forward step - backwards step part of our design pattern\n",
    "\n",
    "                # this is the forward step --> we calculate the new outputs based upon the input data from\n",
    "                # this batch and store the outputs in a variable\n",
    "                outputs = model(inputs)\n",
    "\n",
    "                # we compare the outputs to the ground truth labels in the batch to calculate the loss for this step\n",
    "                loss = criterion(outputs, labels)\n",
    "                \n",
    "                ## count the loss\n",
    "                losses[epoch,batch_index] = loss.data.item()\n",
    "\n",
    "                # we run backpropagation on the loss variable which repopulates the gradients all the way\n",
    "                # back through our model to the input layer\n",
    "                loss.backward()\n",
    "\n",
    "                # Use the gradients calculated in the backprop that took place in .backwards() to do a new\n",
    "                # gradient descent step\n",
    "                optimizer.step()\n",
    "                \n",
    "        ## Set Loss Matrix for visualizing\n",
    "        self.set_params(training_losses=losses)\n",
    "        \n",
    "        return self\n",
    "        "
   ]
  },
  {
   "cell_type": "markdown",
   "metadata": {},
   "source": [
    "** Part 1:  Plot 10 sample images from the MNIST dataset ** "
   ]
  },
  {
   "cell_type": "code",
   "execution_count": 36,
   "metadata": {},
   "outputs": [
    {
     "name": "stdout",
     "output_type": "stream",
     "text": [
      "Downloading http://yann.lecun.com/exdb/mnist/train-images-idx3-ubyte.gz\n",
      "Downloading http://yann.lecun.com/exdb/mnist/train-labels-idx1-ubyte.gz\n",
      "Downloading http://yann.lecun.com/exdb/mnist/t10k-images-idx3-ubyte.gz\n",
      "Downloading http://yann.lecun.com/exdb/mnist/t10k-labels-idx1-ubyte.gz\n",
      "Processing...\n",
      "Done!\n"
     ]
    },
    {
     "data": {
      "image/png": "[encoded data removed]",
      "text/plain": [
       "<Figure size 1440x720 with 10 Axes>"
      ]
     },
     "metadata": {},
     "output_type": "display_data"
    }
   ],
   "source": [
    "## Define our model \n",
    "MLR = MNIST_Logistic_Regression()\n",
    "\n",
    "## Plot sample images\n",
    "MLR.viz_training_images()\n"
   ]
  },
  {
   "cell_type": "markdown",
   "metadata": {},
   "source": [
    "** Question 2:  Construct a softmax formulation in PyTorch of multinomial logistic regression with  Cross Entropy Loss.  **\n",
    "\n",
    "** Question 3: Train your model using SGD to minimize the cost function. *Use a batch size of 64, a learning rate $\\eta = 0.01$, and 10 epochs* **"
   ]
  },
  {
   "cell_type": "markdown",
   "metadata": {},
   "source": [
    "We defined our multinomial logistic model with Cross Entropy Loss above.  Let's train it now."
   ]
  },
  {
   "cell_type": "code",
   "execution_count": 37,
   "metadata": {},
   "outputs": [
    {
     "name": "stderr",
     "output_type": "stream",
     "text": [
      "C:\\Users\\Jackie\\Anaconda3\\lib\\site-packages\\ipykernel_launcher.py:315: UserWarning: invalid index of a 0-dim tensor. This will be an error in PyTorch 0.5. Use tensor.item() to convert a 0-dim tensor to a Python number\n"
     ]
    },
    {
     "data": {
      "text/plain": [
       "<__main__.MNIST_Logistic_Regression at 0x24391c74710>"
      ]
     },
     "execution_count": 37,
     "metadata": {},
     "output_type": "execute_result"
    }
   ],
   "source": [
    "MLR.fit()"
   ]
  },
  {
   "cell_type": "markdown",
   "metadata": {},
   "source": [
    "** Question 4: What are the training and test set accuracies? **\n",
    "\n",
    "** Question 5: Plot some (around 5) examples of misclassifications **"
   ]
  },
  {
   "cell_type": "markdown",
   "metadata": {},
   "source": [
    "*Let's see what the accuracy on the training set.  Because we didn't define a validation set, we'll take the unorthodox step of determining classification accuracy on the entire training set (i.e. the same set on which we trained).  We get a classification accuracy of ~ 92% on the high side of what we'd get for classification accuracy on a Logistic Regression model for this data set.*"
   ]
  },
  {
   "cell_type": "code",
   "execution_count": 191,
   "metadata": {},
   "outputs": [
    {
     "name": "stdout",
     "output_type": "stream",
     "text": [
      "Dataset: Train \n",
      "Accuracy: 55420/60000 (92.4%)\n",
      "\n"
     ]
    },
    {
     "data": {
      "image/png": "[encoded data removed]",
      "text/plain": [
       "<matplotlib.figure.Figure at 0x11b9afa58>"
      ]
     },
     "metadata": {},
     "output_type": "display_data"
    }
   ],
   "source": [
    "MLR.score(\"Train\")\n",
    "\n",
    "MLR.viz_misclassified_images()"
   ]
  },
  {
   "cell_type": "markdown",
   "metadata": {},
   "source": [
    "*On the Test set, we also get a classification accuracy of ~ 92%.  This is similar accuracy to that which we obtained on the training set which suggests that our classification performance isn't due to overfitting.*"
   ]
  },
  {
   "cell_type": "code",
   "execution_count": 194,
   "metadata": {},
   "outputs": [
    {
     "name": "stdout",
     "output_type": "stream",
     "text": [
      "Dataset: Test \n",
      "Accuracy: 9222/10000 (92.2%)\n",
      "\n"
     ]
    },
    {
     "data": {
      "image/png": "[encoded data removed]",
      "text/plain": [
       "<matplotlib.figure.Figure at 0x119db1d68>"
      ]
     },
     "metadata": {},
     "output_type": "display_data"
    }
   ],
   "source": [
    "MLR.score(\"Test\")\n",
    "\n",
    "MLR.viz_misclassified_images()"
   ]
  },
  {
   "cell_type": "markdown",
   "metadata": {},
   "source": [
    "A casual inspection of some of the the sample misclassified images seems to suggest that 8's, 7's and 4's make a number of appearances.  We also see a few examples of images that seem to show a bit of ambiguity which is picked up by our model."
   ]
  },
  {
   "cell_type": "markdown",
   "metadata": {},
   "source": [
    "You're done now! :-)"
   ]
  },
  {
   "cell_type": "code",
   "execution_count": 17,
   "metadata": {},
   "outputs": [
    {
     "data": {
      "image/jpeg": "[encoded data removed]",
      "text/html": [
       "\n",
       "        <iframe\n",
       "            width=\"400\"\n",
       "            height=\"300\"\n",
       "            src=\"https://www.youtube.com/embed/iguPncD11bI\"\n",
       "            frameborder=\"0\"\n",
       "            allowfullscreen\n",
       "        ></iframe>\n",
       "        "
      ],
      "text/plain": [
       "<IPython.lib.display.YouTubeVideo at 0x7f8560097898>"
      ]
     },
     "execution_count": 17,
     "metadata": {},
     "output_type": "execute_result"
    }
   ],
   "source": [
    "YouTubeVideo('iguPncD11bI')"
   ]
  }
 ],
 "metadata": {
  "anaconda-cloud": {},
  "kernelspec": {
   "display_name": "Python 3",
   "language": "python",
   "name": "python3"
  },
  "language_info": {
   "codemirror_mode": {
    "name": "ipython",
    "version": 3
   },
   "file_extension": ".py",
   "mimetype": "text/x-python",
   "name": "python",
   "nbconvert_exporter": "python",
   "pygments_lexer": "ipython3",
   "version": "3.6.1"
  },
  "nteract": {
   "version": "0.7.1"
  }
 },
 "nbformat": 4,
 "nbformat_minor": 2
}
