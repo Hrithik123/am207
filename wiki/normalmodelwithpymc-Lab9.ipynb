{
 "cells": [
  {
   "cell_type": "markdown",
   "metadata": {},
   "source": [
    "#  The normal model with pymc\n",
    "\n",
    "##### Keywords: bayesian, normal-normal model, conjugate prior, MCMC engineering, pymc3"
   ]
  },
  {
   "cell_type": "code",
   "execution_count": 3,
   "metadata": {},
   "outputs": [],
   "source": [
    "%matplotlib inline\n",
    "import numpy as np\n",
    "import matplotlib.pylab as plt \n",
    "import seaborn as sns\n",
    "\n",
    "from scipy.stats import norm"
   ]
  },
  {
   "cell_type": "markdown",
   "metadata": {},
   "source": [
    " A random variable $Y$ is normally distributed with mean $\\mu$ and variance $\\sigma^2$. Thus its density is given by :\n",
    " \n",
    " $$ p(y \\vert \\mu, \\sigma^2) =  \\frac{1}{ \\sqrt{ 2 \\pi \\sigma^2}} e^{-( \\frac{y-\\mu}{2 \\sigma})^2} $$\n",
    " \n",
    " \n",
    "Suppose our model is $\\{y_1, \\ldots, y_n \\vert \\mu, \\sigma^2 \\} \\sim N(\\mu, \\sigma^2)$ then\n",
    "the likelihood is \n",
    "\n",
    "$$\n",
    "p(y_1, \\ldots, y_n \\vert \\mu, \\sigma^2) = \n",
    "\\prod_{i=1}^{n} p(y_i \\vert \\mu, \\sigma^2)=\\prod_{i=1}^{n}  \\frac{1}{ \\sqrt{ 2 \\pi \\sigma^2}} e^{-( \\frac{(y_i-\\mu)^2}{2\\sigma^2})} = \n",
    "\\frac{1}{ \\sqrt{ 2 \\pi \\sigma^2}}   \\exp \\left\\{  - \\frac{1}{2}  \\sum_i \\frac{(y_i-\\mu)^2}{\\sigma^2} \\right\\} \n",
    "$$\n",
    "\n",
    "We can now write the posterior for this model thus:\n",
    "\n",
    "$$ p( \\mu, \\sigma^2 \\vert  y_1, \\ldots, y_n, \\sigma^2)  \\propto \\frac{1}{ \\sqrt{ 2 \\pi \\sigma^2}} e^{ - \\frac{1}{2\\sigma^2} \\sum (y_i - \\mu)^2 } \\, p(\\mu, \\sigma^2)$$\n",
    "\n",
    "Lets see the posterior of $\\mu$ assuming we \n",
    "know $\\sigma^2$.  "
   ]
  },
  {
   "cell_type": "markdown",
   "metadata": {},
   "source": [
    "## Normal Model for fixed $\\sigma$\n",
    "\n",
    "Now we wish to condition on a known $\\sigma^2$. The prior probability distribution for it can then be written as:\n",
    "\n",
    "$$p(\\sigma^2) = \\delta(\\sigma^2 -\\sigma_0^2)$$\n",
    "\n",
    "(which does integrate to 1).\n",
    "\n",
    "Now, keeping in mind that $p(\\mu, \\sigma^2) = p(\\mu \\vert \\sigma^2) p(\\sigma^2)$ and carrying out the integral over $\\sigma^2$ which because of the delta distribution means that we must just substitute $\\sigma_0^2$ in, we get:\n",
    "\n",
    "$$ p( \\mu \\vert  y_1, \\ldots, y_n, \\sigma^2 = \\sigma_0^2)  \\propto p(\\mu \\vert \\sigma^2=\\sigma_0^2) \\,e^{ - \\frac{1}{2\\sigma_0^2} \\sum (y_i - \\mu)^2 }$$\n",
    "\n",
    "where I have dropped the $\\frac{1}{\\sqrt{2\\pi\\sigma_0^2}}$ factor as there is no stochasticity in it (its fixed)."
   ]
  },
  {
   "cell_type": "markdown",
   "metadata": {},
   "source": [
    "\n",
    "Say we have the prior\n",
    "\n",
    "$$ p(\\mu \\vert \\sigma^2) = \\exp \\left\\{ -\\frac{1}{2 \\tau^2} (\\hat{\\mu}-\\mu)^2 \\right\\} $$\n",
    "\n"
   ]
  },
  {
   "cell_type": "markdown",
   "metadata": {},
   "source": [
    "## Example of the normal model for fixed $\\sigma$\n",
    "\n",
    "We have data on the wing length in millimeters of a nine members of a particular species of moth. We wish to make inferences from those measurements on the population mean $\\mu$. Other studies show the wing length to be around 19 mm. We also know that the length must be positive. We can choose a prior that is normal and most of the density is above zero ($\\mu=19.5,\\tau=10$). This is only a **marginally informative** prior.\n",
    "\n",
    "Many bayesians would prefer you choose relatively uninformative (and thus weakly regularizing) priors. This keeps the posterior in-line (it really does help a sampler remain in important regions), but does not add too much information into the problem.\n",
    "\n",
    "The measurements were: 16.4, 17.0, 17.2, 17.4, 18.2, 18.2, 18.2, 19.9, 20.8 giving $\\bar{y}=18.14$. "
   ]
  },
  {
   "cell_type": "code",
   "execution_count": 4,
   "metadata": {},
   "outputs": [
    {
     "name": "stdout",
     "output_type": "stream",
     "text": [
      "sigma 1.3309237486390264 mu 18.144444444444446 n 9\n"
     ]
    }
   ],
   "source": [
    "Y = [16.4, 17.0, 17.2, 17.4, 18.2, 18.2, 18.2, 19.9, 20.8]\n",
    "#Data Quantities\n",
    "sig = np.std(Y) # assume that is the value of KNOWN sigma (in the likelihood)\n",
    "mu_data = np.mean(Y)\n",
    "n = len(Y)\n",
    "print(\"sigma\", sig, \"mu\", mu_data, \"n\", n)"
   ]
  },
  {
   "cell_type": "code",
   "execution_count": 5,
   "metadata": {},
   "outputs": [],
   "source": [
    "# Prior mean\n",
    "mu_prior = 19.5\n",
    "# prior std\n",
    "std_prior = 10 "
   ]
  },
  {
   "cell_type": "markdown",
   "metadata": {},
   "source": [
    "## Sampling by  code\n",
    "\n",
    "We now set up code to do metropolis using logs of distributions:"
   ]
  },
  {
   "cell_type": "code",
   "execution_count": 6,
   "metadata": {},
   "outputs": [],
   "source": [
    "import tqdm\n",
    "def metropolis(logp, qdraw, stepsize, nsamp, xinit):\n",
    "    samples=np.empty(nsamp)\n",
    "    x_prev = xinit\n",
    "    accepted = 0\n",
    "    for i in tqdm.tqdm(range(nsamp)):\n",
    "        x_star = qdraw(x_prev, stepsize)\n",
    "        logp_star = logp(x_star)\n",
    "        logp_prev = logp(x_prev)\n",
    "        logpdfratio = logp_star -logp_prev\n",
    "        u = np.random.uniform()\n",
    "        if np.log(u) <= logpdfratio:\n",
    "            samples[i] = x_star\n",
    "            x_prev = x_star\n",
    "            accepted += 1\n",
    "        else:#we always get a sample\n",
    "            samples[i]= x_prev\n",
    "            \n",
    "    return samples, accepted\n"
   ]
  },
  {
   "cell_type": "code",
   "execution_count": 7,
   "metadata": {},
   "outputs": [],
   "source": [
    "def prop(x, step):\n",
    "    return np.random.normal(x, step)"
   ]
  },
  {
   "cell_type": "markdown",
   "metadata": {},
   "source": [
    "Remember, that up to normalization, the posterior is the likelihood times the prior. Thus the log of the posterior is the sum of the logs of the likelihood and the prior. "
   ]
  },
  {
   "cell_type": "code",
   "execution_count": 8,
   "metadata": {},
   "outputs": [],
   "source": [
    "logprior = lambda mu: norm.logpdf(mu, loc=mu_prior, scale=std_prior)\n",
    "loglike = lambda mu: np.sum(norm.logpdf(Y, loc=mu, scale=np.std(Y)))\n",
    "logpost = lambda mu: loglike(mu) + logprior(mu)"
   ]
  },
  {
   "cell_type": "markdown",
   "metadata": {},
   "source": [
    "Now we sample:"
   ]
  },
  {
   "cell_type": "code",
   "execution_count": 9,
   "metadata": {},
   "outputs": [
    {
     "name": "stderr",
     "output_type": "stream",
     "text": [
      "100%|██████████| 100000/100000 [01:33<00:00, 1070.21it/s]\n"
     ]
    }
   ],
   "source": [
    "x0=np.random.uniform()\n",
    "nsamps=100000\n",
    "samps, acc = metropolis(logpost, prop, 1, nsamps, x0)"
   ]
  },
  {
   "cell_type": "markdown",
   "metadata": {},
   "source": [
    "The acceptance rate is reasonable. You should shoot for somewhere between 20 and 50%."
   ]
  },
  {
   "cell_type": "code",
   "execution_count": 10,
   "metadata": {},
   "outputs": [
    {
     "data": {
      "text/plain": [
       "0.46264"
      ]
     },
     "execution_count": 10,
     "metadata": {},
     "output_type": "execute_result"
    }
   ],
   "source": [
    "acc/nsamps"
   ]
  },
  {
   "cell_type": "markdown",
   "metadata": {},
   "source": [
    "appropriately thinned, we lose any correlation.."
   ]
  },
  {
   "cell_type": "code",
   "execution_count": 11,
   "metadata": {},
   "outputs": [
    {
     "data": {
      "image/png": "[encoded data removed]",
      "text/plain": [
       "<Figure size 432x288 with 1 Axes>"
      ]
     },
     "metadata": {
      "needs_background": "light"
     },
     "output_type": "display_data"
    }
   ],
   "source": [
    "def corrplot(trace, maxlags=50):\n",
    "    plt.acorr(trace-np.mean(trace),  normed=True, maxlags=maxlags);\n",
    "    plt.xlim([0, maxlags])\n",
    "corrplot(samps[40000::]);"
   ]
  },
  {
   "cell_type": "code",
   "execution_count": 12,
   "metadata": {},
   "outputs": [
    {
     "data": {
      "image/png": "[encoded data removed]",
      "text/plain": [
       "<Figure size 432x288 with 1 Axes>"
      ]
     },
     "metadata": {
      "needs_background": "light"
     },
     "output_type": "display_data"
    }
   ],
   "source": [
    "corrplot(samps[40000::5]);"
   ]
  },
  {
   "cell_type": "code",
   "execution_count": 11,
   "metadata": {},
   "outputs": [
    {
     "name": "stderr",
     "output_type": "stream",
     "text": [
      "/Users/user/anaconda3/lib/python3.7/site-packages/scipy/stats/stats.py:1713: FutureWarning: Using a non-tuple sequence for multidimensional indexing is deprecated; use `arr[tuple(seq)]` instead of `arr[seq]`. In the future this will be interpreted as an array index, `arr[np.array(seq)]`, which will result either in an error or a different result.\n",
      "  return np.add.reduce(sorted[indexer] * weights, axis=axis) / sumval\n"
     ]
    },
    {
     "data": {
      "image/png": "[encoded data removed]",
      "text/plain": [
       "<Figure size 432x288 with 1 Axes>"
      ]
     },
     "metadata": {
      "needs_background": "light"
     },
     "output_type": "display_data"
    }
   ],
   "source": [
    "sns.kdeplot(samps[40000::5]);"
   ]
  },
  {
   "cell_type": "markdown",
   "metadata": {
    "collapsed": true
   },
   "source": [
    "## Sampling with pymc\n",
    "\n",
    "We'll use this simple example to show how to sample with pymc. To install pymc3, do\n",
    "\n",
    "`conda install -c conda-forge pymc3`.\n",
    "\n",
    "We want  `pymc 3.5`.\n",
    "\n",
    "Pymc3 is basically a sampler which uses NUTS for continuous variables and Metropolis for discrete ones, but we can force it to use Metropolis for all, which is what we shall do for now.\n",
    "\n",
    "pymc3 docs are available [here](https://pymc-devs.github.io/pymc3/). \n",
    "\n",
    "The structure is that we define a model within a context manager, and optionally do the sampling there. The model name (`model1` below) and trace name (`model1trace` below) are both important names you should keep track of.\n",
    "\n",
    "The context manager below makes it look as if the variables defined under it do not survive outside the scope of the manager. This is not true, and can be the cause of subtle bugs when comparing models. I would wrap models in functions if you want to keep the variables private."
   ]
  },
  {
   "cell_type": "code",
   "execution_count": 13,
   "metadata": {},
   "outputs": [
    {
     "name": "stderr",
     "output_type": "stream",
     "text": [
      "Multiprocess sampling (4 chains in 4 jobs)\n",
      "Metropolis: [mu]\n",
      "Sampling 4 chains: 100%|██████████| 402000/402000 [00:52<00:00, 7585.14draws/s]\n",
      "The number of effective samples is smaller than 25% for some parameters.\n"
     ]
    }
   ],
   "source": [
    "import pymc3 as pm\n",
    "with pm.Model() as model1:\n",
    "    mu = pm.Normal('mu', mu=mu_prior, sd=std_prior)#parameter's prior\n",
    "    wingspan = pm.Normal('wingspan', mu=mu, sd=np.std(Y), observed=Y)#likelihood\n",
    "    stepper=pm.Metropolis(tune_interval=1000)\n",
    "    tracemodel1=pm.sample(100000, step=stepper) #if don't specify step, will use NUTS sampler"
   ]
  },
  {
   "cell_type": "markdown",
   "metadata": {},
   "source": [
    "See https://docs.pymc.io/api/inference.html#step-methods for details."
   ]
  },
  {
   "cell_type": "markdown",
   "metadata": {},
   "source": [
    "Notice that `wingspan`, which is the  data, is defined using the same exact notation as the  prior abovem with the addition of the `observed` argument. This is because Bayesian notation does not distinguish between data d=and parameter nodes..everything is treated equally, and all the action is in taking conditionals and marginals of distributions."
   ]
  },
  {
   "cell_type": "markdown",
   "metadata": {},
   "source": [
    "Deterministics are deterministic functions of variables:"
   ]
  },
  {
   "cell_type": "code",
   "execution_count": 14,
   "metadata": {},
   "outputs": [
    {
     "data": {
      "text/plain": [
       "[]"
      ]
     },
     "execution_count": 14,
     "metadata": {},
     "output_type": "execute_result"
    }
   ],
   "source": [
    "model1.deterministics"
   ]
  },
  {
   "cell_type": "markdown",
   "metadata": {},
   "source": [
    "The variables:"
   ]
  },
  {
   "cell_type": "code",
   "execution_count": 15,
   "metadata": {},
   "outputs": [
    {
     "data": {
      "text/plain": [
       "([mu], {'mu': mu, 'wingspan': wingspan}, pymc3.model.FreeRV)"
      ]
     },
     "execution_count": 15,
     "metadata": {},
     "output_type": "execute_result"
    }
   ],
   "source": [
    "model1.vars, model1.named_vars, type(model1.mu)"
   ]
  },
  {
   "cell_type": "markdown",
   "metadata": {},
   "source": [
    "The \"Observed\" Variables, or data."
   ]
  },
  {
   "cell_type": "code",
   "execution_count": 16,
   "metadata": {},
   "outputs": [
    {
     "data": {
      "text/plain": [
       "([wingspan], pymc3.model.ObservedRV)"
      ]
     },
     "execution_count": 16,
     "metadata": {},
     "output_type": "execute_result"
    }
   ],
   "source": [
    "model1.observed_RVs, type(model1.wingspan)"
   ]
  },
  {
   "cell_type": "markdown",
   "metadata": {},
   "source": [
    "You can sample from stochastics. This is the generative nature of things..."
   ]
  },
  {
   "cell_type": "code",
   "execution_count": 17,
   "metadata": {},
   "outputs": [
    {
     "data": {
      "text/plain": [
       "array([19.87549864,  6.44050282, 24.76365229, 10.47153704, 29.15955536,\n",
       "        6.71303295, 40.23195605, 37.58212401, 37.76878961, 25.57318127])"
      ]
     },
     "execution_count": 17,
     "metadata": {},
     "output_type": "execute_result"
    }
   ],
   "source": [
    "model1.mu.random(size=10)"
   ]
  },
  {
   "cell_type": "markdown",
   "metadata": {},
   "source": [
    "And key for metropolis or other sampling algorithms, you must be able to get a log-probability for anything that has a distribution"
   ]
  },
  {
   "cell_type": "code",
   "execution_count": 18,
   "metadata": {},
   "outputs": [
    {
     "data": {
      "text/plain": [
       "array(-3.22277363)"
      ]
     },
     "execution_count": 18,
     "metadata": {},
     "output_type": "execute_result"
    }
   ],
   "source": [
    "model1.mu.logp({mu: '20'})"
   ]
  },
  {
   "cell_type": "markdown",
   "metadata": {},
   "source": [
    "### Results\n",
    "\n",
    "Pymc3 gives us a nice summary of our trace"
   ]
  },
  {
   "cell_type": "code",
   "execution_count": 19,
   "metadata": {},
   "outputs": [
    {
     "data": {
      "text/html": [
       "<div>\n",
       "<style scoped>\n",
       "    .dataframe tbody tr th:only-of-type {\n",
       "        vertical-align: middle;\n",
       "    }\n",
       "\n",
       "    .dataframe tbody tr th {\n",
       "        vertical-align: top;\n",
       "    }\n",
       "\n",
       "    .dataframe thead th {\n",
       "        text-align: right;\n",
       "    }\n",
       "</style>\n",
       "<table border=\"1\" class=\"dataframe\">\n",
       "  <thead>\n",
       "    <tr style=\"text-align: right;\">\n",
       "      <th></th>\n",
       "      <th>mean</th>\n",
       "      <th>sd</th>\n",
       "      <th>mc_error</th>\n",
       "      <th>hpd_2.5</th>\n",
       "      <th>hpd_97.5</th>\n",
       "      <th>n_eff</th>\n",
       "      <th>Rhat</th>\n",
       "    </tr>\n",
       "  </thead>\n",
       "  <tbody>\n",
       "    <tr>\n",
       "      <th>mu</th>\n",
       "      <td>18.14902</td>\n",
       "      <td>0.445303</td>\n",
       "      <td>0.002046</td>\n",
       "      <td>17.280921</td>\n",
       "      <td>19.022926</td>\n",
       "      <td>45758.050417</td>\n",
       "      <td>1.000051</td>\n",
       "    </tr>\n",
       "  </tbody>\n",
       "</table>\n",
       "</div>"
      ],
      "text/plain": [
       "        mean        sd  mc_error    hpd_2.5   hpd_97.5         n_eff      Rhat\n",
       "mu  18.14902  0.445303  0.002046  17.280921  19.022926  45758.050417  1.000051"
      ]
     },
     "execution_count": 19,
     "metadata": {},
     "output_type": "execute_result"
    }
   ],
   "source": [
    "pm.summary(tracemodel1[50000::])"
   ]
  },
  {
   "cell_type": "markdown",
   "metadata": {},
   "source": [
    "The highest-posterior-density  is the  smallest width interval containing a pre-specified density amount. Here the default is the smallest width containing 95% of the density. Such an interval is called a **Bayesian Credible Interval**."
   ]
  },
  {
   "cell_type": "code",
   "execution_count": 20,
   "metadata": {},
   "outputs": [
    {
     "data": {
      "text/plain": [
       "{0: {'mu': array([17.29921929, 19.03818161])},\n",
       " 1: {'mu': array([17.27869023, 19.02659818])},\n",
       " 2: {'mu': array([17.29841858, 19.02359686])},\n",
       " 3: {'mu': array([17.24086234, 18.9809422 ])}}"
      ]
     },
     "execution_count": 20,
     "metadata": {},
     "output_type": "execute_result"
    }
   ],
   "source": [
    "pm.hpd(tracemodel1[50000::])#pm.hpd(tracemodel1, alpha=0.05)"
   ]
  },
  {
   "cell_type": "markdown",
   "metadata": {},
   "source": [
    "You can also get quantiles:"
   ]
  },
  {
   "cell_type": "code",
   "execution_count": 21,
   "metadata": {},
   "outputs": [
    {
     "data": {
      "text/plain": [
       "{0: {'mu': {2.5: 17.27509856387183,\n",
       "   25: 17.855581120490747,\n",
       "   50: 18.154279432935333,\n",
       "   75: 18.455625923031096,\n",
       "   97.5: 19.0193979408382}},\n",
       " 1: {'mu': {2.5: 17.266017218230367,\n",
       "   25: 17.84967379580875,\n",
       "   50: 18.15113287443758,\n",
       "   75: 18.4482975377541,\n",
       "   97.5: 19.020569547587307}},\n",
       " 2: {'mu': {2.5: 17.28339889201527,\n",
       "   25: 17.84714853477856,\n",
       "   50: 18.143949940265408,\n",
       "   75: 18.44398395304017,\n",
       "   97.5: 19.012504074631703}},\n",
       " 3: {'mu': {2.5: 17.27200064003053,\n",
       "   25: 17.840070211212627,\n",
       "   50: 18.14842710440928,\n",
       "   75: 18.446841531211657,\n",
       "   97.5: 19.016538538069874}}}"
      ]
     },
     "execution_count": 21,
     "metadata": {},
     "output_type": "execute_result"
    }
   ],
   "source": [
    "pm.quantiles(tracemodel1[50000::])"
   ]
  },
  {
   "cell_type": "markdown",
   "metadata": {},
   "source": [
    "`pm.traceplot` will give you marginal posteriors and traces for all the \"stochastics\" in your model (ie non-data). It can even give you traces for some deterministic functions of stochastics..we shall see an example of this soon."
   ]
  },
  {
   "cell_type": "code",
   "execution_count": 22,
   "metadata": {},
   "outputs": [
    {
     "name": "stderr",
     "output_type": "stream",
     "text": [
      "/Users/user/anaconda3/lib/python3.7/site-packages/matplotlib/axes/_base.py:3455: MatplotlibDeprecationWarning: \n",
      "The `ymin` argument was deprecated in Matplotlib 3.0 and will be removed in 3.2. Use `bottom` instead.\n",
      "  alternative='`bottom`', obj_type='argument')\n"
     ]
    },
    {
     "data": {
      "image/png": "[encoded data removed]",
      "text/plain": [
       "<Figure size 864x144 with 2 Axes>"
      ]
     },
     "metadata": {
      "needs_background": "light"
     },
     "output_type": "display_data"
    }
   ],
   "source": [
    "pm.traceplot(tracemodel1[50000::]);"
   ]
  },
  {
   "cell_type": "markdown",
   "metadata": {},
   "source": [
    "Autocorrelation is easily accessible as well."
   ]
  },
  {
   "cell_type": "code",
   "execution_count": 23,
   "metadata": {},
   "outputs": [
    {
     "data": {
      "image/png": "[encoded data removed]",
      "text/plain": [
       "<Figure size 864x144 with 4 Axes>"
      ]
     },
     "metadata": {
      "needs_background": "light"
     },
     "output_type": "display_data"
    }
   ],
   "source": [
    "pm.autocorrplot(tracemodel1[50000::]);"
   ]
  },
  {
   "cell_type": "markdown",
   "metadata": {},
   "source": [
    "Here we plot the results of our sampling against our manual sampler and see that all three match well."
   ]
  },
  {
   "cell_type": "code",
   "execution_count": 24,
   "metadata": {},
   "outputs": [
    {
     "name": "stderr",
     "output_type": "stream",
     "text": [
      "/Users/user/anaconda3/lib/python3.7/site-packages/scipy/stats/stats.py:1713: FutureWarning: Using a non-tuple sequence for multidimensional indexing is deprecated; use `arr[tuple(seq)]` instead of `arr[seq]`. In the future this will be interpreted as an array index, `arr[np.array(seq)]`, which will result either in an error or a different result.\n",
      "  return np.add.reduce(sorted[indexer] * weights, axis=axis) / sumval\n"
     ]
    },
    {
     "data": {
      "image/png": "[encoded data removed]",
      "text/plain": [
       "<Figure size 432x288 with 1 Axes>"
      ]
     },
     "metadata": {
      "needs_background": "light"
     },
     "output_type": "display_data"
    }
   ],
   "source": [
    "sns.kdeplot(samps[50000::]);\n",
    "sns.kdeplot(tracemodel1[50000::]['mu']);"
   ]
  },
  {
   "cell_type": "markdown",
   "metadata": {},
   "source": [
    "The **posterior predictive** is accessed via the `sample_ppc` function, which takes the trace, the number of samples wanted, and the model as arguments. The sampler will use the posterior traces and the defined likelihood to return samples from the posterior predictive."
   ]
  },
  {
   "cell_type": "code",
   "execution_count": 25,
   "metadata": {},
   "outputs": [
    {
     "name": "stderr",
     "output_type": "stream",
     "text": [
      "100%|██████████| 1000/1000 [00:00<00:00, 3051.16it/s]\n"
     ]
    }
   ],
   "source": [
    "tr1 = tracemodel1[50000::]\n",
    "postpred = pm.sample_ppc(tr1, samples=1000, model=model1)"
   ]
  },
  {
   "cell_type": "code",
   "execution_count": 26,
   "metadata": {},
   "outputs": [
    {
     "data": {
      "text/plain": [
       "(1000, 9)"
      ]
     },
     "execution_count": 26,
     "metadata": {},
     "output_type": "execute_result"
    }
   ],
   "source": [
    "postpred['wingspan'].shape"
   ]
  },
  {
   "cell_type": "markdown",
   "metadata": {},
   "source": [
    "The posterior predictive will return samples for all data in the model's  `observed_RVs`. Its shape is by default the trace size times the data size in pymc3.5 (3.4 would give you a posterior-predictive the size of the posterior, our usual notion. 3.5 gives you the entire replicative posterior predictive. Also, 3.5 docs claim the API is sample_posterior_predictive, but this change has not yet been made, its still sample_ppc)"
   ]
  },
  {
   "cell_type": "code",
   "execution_count": 27,
   "metadata": {},
   "outputs": [
    {
     "data": {
      "text/plain": [
       "[wingspan]"
      ]
     },
     "execution_count": 27,
     "metadata": {},
     "output_type": "execute_result"
    }
   ],
   "source": [
    "model1.observed_RVs"
   ]
  },
  {
   "cell_type": "markdown",
   "metadata": {},
   "source": [
    "To pull out just one posterior-predictive replicate:"
   ]
  },
  {
   "cell_type": "code",
   "execution_count": 28,
   "metadata": {},
   "outputs": [],
   "source": [
    "ppc = postpred['wingspan'][:,0]"
   ]
  },
  {
   "cell_type": "code",
   "execution_count": 29,
   "metadata": {},
   "outputs": [
    {
     "name": "stderr",
     "output_type": "stream",
     "text": [
      "/Users/user/anaconda3/lib/python3.7/site-packages/scipy/stats/stats.py:1713: FutureWarning: Using a non-tuple sequence for multidimensional indexing is deprecated; use `arr[tuple(seq)]` instead of `arr[seq]`. In the future this will be interpreted as an array index, `arr[np.array(seq)]`, which will result either in an error or a different result.\n",
      "  return np.add.reduce(sorted[indexer] * weights, axis=axis) / sumval\n"
     ]
    },
    {
     "data": {
      "image/png": "[encoded data removed]",
      "text/plain": [
       "<Figure size 432x288 with 1 Axes>"
      ]
     },
     "metadata": {
      "needs_background": "light"
     },
     "output_type": "display_data"
    }
   ],
   "source": [
    "sns.distplot(ppc);"
   ]
  },
  {
   "cell_type": "markdown",
   "metadata": {},
   "source": [
    "We plot the posterior predictive against the posterior to see how it is spread out! When we compare the posterior predictive to the posterior (unlike in the beta-binomial distribution where one is a rate and one is a count, here both are on the same scale), we find that the posterior predictive is smeared out due to the additional uncertainty from the sampling distribution."
   ]
  },
  {
   "cell_type": "code",
   "execution_count": 30,
   "metadata": {},
   "outputs": [
    {
     "name": "stderr",
     "output_type": "stream",
     "text": [
      "/Users/user/anaconda3/lib/python3.7/site-packages/matplotlib/axes/_axes.py:6510: MatplotlibDeprecationWarning: \n",
      "The 'normed' kwarg was deprecated in Matplotlib 2.1 and will be removed in 3.1. Use 'density' instead.\n",
      "  alternative=\"'density'\", removal=\"3.1\")\n",
      "/Users/user/anaconda3/lib/python3.7/site-packages/scipy/stats/stats.py:1713: FutureWarning: Using a non-tuple sequence for multidimensional indexing is deprecated; use `arr[tuple(seq)]` instead of `arr[seq]`. In the future this will be interpreted as an array index, `arr[np.array(seq)]`, which will result either in an error or a different result.\n",
      "  return np.add.reduce(sorted[indexer] * weights, axis=axis) / sumval\n"
     ]
    },
    {
     "data": {
      "image/png": "[encoded data removed]",
      "text/plain": [
       "<Figure size 432x288 with 1 Axes>"
      ]
     },
     "metadata": {
      "needs_background": "light"
     },
     "output_type": "display_data"
    }
   ],
   "source": [
    "plt.hist(ppc, alpha=0.2, normed=True)\n",
    "sns.kdeplot(tr1['mu']);"
   ]
  },
  {
   "cell_type": "code",
   "execution_count": 31,
   "metadata": {},
   "outputs": [
    {
     "data": {
      "image/svg+xml": [
       "<?xml version=\"1.0\" encoding=\"UTF-8\" standalone=\"no\"?>\n",
       "<!DOCTYPE svg PUBLIC \"-//W3C//DTD SVG 1.1//EN\"\n",
       " \"http://www.w3.org/Graphics/SVG/1.1/DTD/svg11.dtd\">\n",
       "<!-- Generated by graphviz version 2.40.1 (20161225.0304)\n",
       " -->\n",
       "<!-- Title: %3 Pages: 1 -->\n",
       "<svg width=\"206pt\" height=\"155pt\"\n",
       " viewBox=\"0.00 0.00 206.00 155.00\" xmlns=\"http://www.w3.org/2000/svg\" xmlns:xlink=\"http://www.w3.org/1999/xlink\">\n",
       "<g id=\"graph0\" class=\"graph\" transform=\"scale(1 1) rotate(0) translate(4 151)\">\n",
       "<title>%3</title>\n",
       "<polygon fill=\"#ffffff\" stroke=\"transparent\" points=\"-4,4 -4,-151 202,-151 202,4 -4,4\"/>\n",
       "<g id=\"clust1\" class=\"cluster\">\n",
       "<title>cluster9</title>\n",
       "<path fill=\"none\" stroke=\"#000000\" d=\"M20,-8C20,-8 178,-8 178,-8 184,-8 190,-14 190,-20 190,-20 190,-71 190,-71 190,-77 184,-83 178,-83 178,-83 20,-83 20,-83 14,-83 8,-77 8,-71 8,-71 8,-20 8,-20 8,-14 14,-8 20,-8\"/>\n",
       "<text text-anchor=\"middle\" x=\"178\" y=\"-15.8\" font-family=\"Times,serif\" font-size=\"14.00\" fill=\"#000000\">9</text>\n",
       "</g>\n",
       "<!-- mu -->\n",
       "<g id=\"node1\" class=\"node\">\n",
       "<title>mu</title>\n",
       "<ellipse fill=\"none\" stroke=\"#000000\" cx=\"99\" cy=\"-129\" rx=\"59.5901\" ry=\"18\"/>\n",
       "<text text-anchor=\"middle\" x=\"99\" y=\"-125.3\" font-family=\"Times,serif\" font-size=\"14.00\" fill=\"#000000\">mu ~ Normal</text>\n",
       "</g>\n",
       "<!-- wingspan -->\n",
       "<g id=\"node2\" class=\"node\">\n",
       "<title>wingspan</title>\n",
       "<ellipse fill=\"#d3d3d3\" stroke=\"#000000\" cx=\"99\" cy=\"-57\" rx=\"83.3857\" ry=\"18\"/>\n",
       "<text text-anchor=\"middle\" x=\"99\" y=\"-53.3\" font-family=\"Times,serif\" font-size=\"14.00\" fill=\"#000000\">wingspan ~ Normal</text>\n",
       "</g>\n",
       "<!-- mu&#45;&gt;wingspan -->\n",
       "<g id=\"edge1\" class=\"edge\">\n",
       "<title>mu&#45;&gt;wingspan</title>\n",
       "<path fill=\"none\" stroke=\"#000000\" d=\"M99,-110.8314C99,-103.131 99,-93.9743 99,-85.4166\"/>\n",
       "<polygon fill=\"#000000\" stroke=\"#000000\" points=\"102.5001,-85.4132 99,-75.4133 95.5001,-85.4133 102.5001,-85.4132\"/>\n",
       "</g>\n",
       "</g>\n",
       "</svg>\n"
      ],
      "text/plain": [
       "<graphviz.dot.Digraph at 0x1a208f5160>"
      ]
     },
     "execution_count": 31,
     "metadata": {},
     "output_type": "execute_result"
    }
   ],
   "source": [
    "pm.model_to_graphviz(model1)"
   ]
  },
  {
   "cell_type": "markdown",
   "metadata": {},
   "source": [
    "## Letting $\\sigma$ be a stochastic"
   ]
  },
  {
   "cell_type": "code",
   "execution_count": 32,
   "metadata": {},
   "outputs": [
    {
     "name": "stderr",
     "output_type": "stream",
     "text": [
      "Multiprocess sampling (4 chains in 4 jobs)\n",
      "CompoundStep\n",
      ">Metropolis: [sigma]\n",
      ">Metropolis: [mu]\n",
      "Sampling 4 chains: 100%|██████████| 402000/402000 [01:17<00:00, 5206.74draws/s]\n",
      "The number of effective samples is smaller than 25% for some parameters.\n"
     ]
    }
   ],
   "source": [
    "with pm.Model() as model12:\n",
    "    mu = pm.Normal('mu', mu=mu_prior, sd=std_prior)#parameter's prior\n",
    "    sigma = pm.Uniform('sigma', lower=0, upper=10)\n",
    "    wingspan = pm.Normal('wingspan', mu=mu, sd=sigma, observed=Y)#likelihood\n",
    "    stepper=pm.Metropolis()\n",
    "    tracemodel2=pm.sample(100000, step=stepper)"
   ]
  },
  {
   "cell_type": "code",
   "execution_count": 33,
   "metadata": {},
   "outputs": [],
   "source": [
    "pm.model_to_graphviz(model12);"
   ]
  },
  {
   "cell_type": "markdown",
   "metadata": {},
   "source": [
    "Few things to notice:\n",
    "\n",
    "- the model being implemented is simply:\n",
    "\n",
    "$$\n",
    "h \\sim N(\\mu, \\sigma)\\\\\n",
    "\\mu \\sim Normal(\\mu_{prior}, \\sigma_{prior})\\\\\n",
    "\\sigma \\sim Unif(0, 10)\n",
    "$$\n",
    "\n",
    "- we dont have to write log probs or even a proposal. A normal is standardly used."
   ]
  },
  {
   "cell_type": "code",
   "execution_count": 34,
   "metadata": {},
   "outputs": [
    {
     "name": "stderr",
     "output_type": "stream",
     "text": [
      "/Users/user/anaconda3/lib/python3.7/site-packages/matplotlib/axes/_base.py:3455: MatplotlibDeprecationWarning: \n",
      "The `ymin` argument was deprecated in Matplotlib 3.0 and will be removed in 3.2. Use `bottom` instead.\n",
      "  alternative='`bottom`', obj_type='argument')\n",
      "/Users/user/anaconda3/lib/python3.7/site-packages/matplotlib/axes/_base.py:3455: MatplotlibDeprecationWarning: \n",
      "The `ymin` argument was deprecated in Matplotlib 3.0 and will be removed in 3.2. Use `bottom` instead.\n",
      "  alternative='`bottom`', obj_type='argument')\n"
     ]
    },
    {
     "data": {
      "image/png": "[encoded data removed]",
      "text/plain": [
       "<Figure size 864x288 with 4 Axes>"
      ]
     },
     "metadata": {
      "needs_background": "light"
     },
     "output_type": "display_data"
    }
   ],
   "source": [
    "pm.traceplot(tracemodel2[50000::]);"
   ]
  },
  {
   "cell_type": "code",
   "execution_count": 35,
   "metadata": {},
   "outputs": [],
   "source": [
    "pm.summary(tracemodel2[50000::]);"
   ]
  },
  {
   "cell_type": "code",
   "execution_count": 36,
   "metadata": {},
   "outputs": [
    {
     "data": {
      "text/plain": [
       "[mu, sigma_interval__]"
      ]
     },
     "execution_count": 36,
     "metadata": {},
     "output_type": "execute_result"
    }
   ],
   "source": [
    "model12.vars"
   ]
  },
  {
   "cell_type": "code",
   "execution_count": 37,
   "metadata": {},
   "outputs": [
    {
     "data": {
      "text/plain": [
       "array(-3.22277363)"
      ]
     },
     "execution_count": 37,
     "metadata": {},
     "output_type": "execute_result"
    }
   ],
   "source": [
    "model12.mu.logp(dict(mu=20, sigma_interval__=1))"
   ]
  },
  {
   "cell_type": "code",
   "execution_count": 38,
   "metadata": {},
   "outputs": [
    {
     "data": {
      "text/plain": [
       "array(-1.62652338)"
      ]
     },
     "execution_count": 38,
     "metadata": {},
     "output_type": "execute_result"
    }
   ],
   "source": [
    "model12.sigma_interval__.logp(dict(mu=20, sigma_interval__=1))"
   ]
  }
 ],
 "metadata": {
  "anaconda-cloud": {},
  "kernelspec": {
   "display_name": "Python 3",
   "language": "python",
   "name": "python3"
  },
  "language_info": {
   "codemirror_mode": {
    "name": "ipython",
    "version": 3
   },
   "file_extension": ".py",
   "mimetype": "text/x-python",
   "name": "python",
   "nbconvert_exporter": "python",
   "pygments_lexer": "ipython3",
   "version": "3.7.0"
  }
 },
 "nbformat": 4,
 "nbformat_minor": 1
}
